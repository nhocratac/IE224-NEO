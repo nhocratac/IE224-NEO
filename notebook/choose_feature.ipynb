{
 "cells": [
  {
   "cell_type": "code",
   "execution_count": 1,
   "metadata": {},
   "outputs": [],
   "source": [
    "import pandas as pd\n",
    "import seaborn as sns\n",
    "import matplotlib.pyplot as plt"
   ]
  },
  {
   "cell_type": "code",
   "execution_count": 2,
   "metadata": {},
   "outputs": [],
   "source": [
    "file = '../data/NASA Near-Earth Objects-CleanbyThang.csv'\n",
    "df = pd.read_csv(file,index_col=0)"
   ]
  },
  {
   "cell_type": "code",
   "execution_count": 3,
   "metadata": {},
   "outputs": [
    {
     "name": "stdout",
     "output_type": "stream",
     "text": [
      "<class 'pandas.core.frame.DataFrame'>\n",
      "Index: 23999 entries, 2001981 to 54073367\n",
      "Data columns (total 14 columns):\n",
      " #   Column                             Non-Null Count  Dtype  \n",
      "---  ------                             --------------  -----  \n",
      " 0   absolute_magnitude_h               23999 non-null  float64\n",
      " 1   is_potentially_hazardous_asteroid  23999 non-null  bool   \n",
      " 2   is_sentry_object                   23999 non-null  bool   \n",
      " 3   kilometers_estimated_diameter_min  23999 non-null  float64\n",
      " 4   kilometers_estimated_diameter_max  23999 non-null  float64\n",
      " 5   orbit_class_type                   23999 non-null  object \n",
      " 6   perihelion_distance                23999 non-null  float64\n",
      " 7   aphelion_distance                  23999 non-null  float64\n",
      " 8   first_observation_date             23999 non-null  object \n",
      " 9   last_observation_date              23999 non-null  object \n",
      " 10  orbit_class_description            23999 non-null  object \n",
      " 11  first_observation_year             23999 non-null  int64  \n",
      " 12  last_observation_year              23999 non-null  int64  \n",
      " 13  is_collidable                      23999 non-null  bool   \n",
      "dtypes: bool(3), float64(5), int64(2), object(4)\n",
      "memory usage: 2.3+ MB\n"
     ]
    }
   ],
   "source": [
    "df.info()"
   ]
  },
  {
   "cell_type": "code",
   "execution_count": 4,
   "metadata": {},
   "outputs": [],
   "source": [
    "df['first_observation_date'] = pd.to_datetime(df['first_observation_date'])\n",
    "df['last_observation_date'] = pd.to_datetime(df['last_observation_date'])\n",
    "\n"
   ]
  },
  {
   "cell_type": "code",
   "execution_count": 5,
   "metadata": {},
   "outputs": [],
   "source": [
    "df= df.drop(columns=['orbit_class_description'])"
   ]
  },
  {
   "cell_type": "code",
   "execution_count": 11,
   "metadata": {},
   "outputs": [],
   "source": [
    "# đánh giá ma trận tương quan\n",
    "\n",
    "category_col = ['orbit_class_type','is_sentry_object','is_collidable']\n",
    "numeric_col = ['absolute_magnitude_h','kilometers_estimated_diameter_min','kilometers_estimated_diameter_max','perihelion_distance','aphelion_distance','first_observation_year','last_observation_year']\n",
    "target_col = 'is_potentially_hazardous_asteroid'\n"
   ]
  },
  {
   "cell_type": "code",
   "execution_count": 14,
   "metadata": {},
   "outputs": [
    {
     "name": "stdout",
     "output_type": "stream",
     "text": [
      "absolute_magnitude_h: 0.0\n",
      "kilometers_estimated_diameter_min: 1.9584104390080013e-164\n",
      "kilometers_estimated_diameter_max: 1.9584104376160863e-164\n",
      "perihelion_distance: 3.1526025182785987e-229\n",
      "aphelion_distance: 0.1234479157224278 - Không có tương quan\n",
      "first_observation_year: 1.5763385521265077e-219\n",
      "last_observation_year: 2.2150925877600762e-55\n"
     ]
    }
   ],
   "source": [
    "# để đánh giá tương quan một biến dàng nhị phân và các biến liên tục ta dùng Point Biserial Correlation\n",
    "from scipy.stats import pointbiserialr\n",
    "corr_numeric = []\n",
    "for col in numeric_col:\n",
    "    if df[col].dtype == 'datetime64[ns]':\n",
    "        df[col] = df[col].dt.year\n",
    "    corr = pointbiserialr(df[target_col],df[col])\n",
    "    corr_numeric.append([col,corr[0],corr[1]])\n",
    "    \n",
    "for res in corr_numeric:\n",
    "    if res[2] < 0.05:\n",
    "        print(f\"{res[0]}: {res[2]}\")\n",
    "    else:\n",
    "        print(f\"{res[0]}: {res[2]} - Không có tương quan\")"
   ]
  },
  {
   "cell_type": "code",
   "execution_count": 13,
   "metadata": {},
   "outputs": [
    {
     "name": "stdout",
     "output_type": "stream",
     "text": [
      "orbit_class_type: 352.4678834036408 p=5.107238872039364e-224\n",
      "is_sentry_object: 83.18920211588798 p=8.026294502238391e-20\n",
      "is_collidable: 1004.2752234054757 p=5.938465832700636e-216\n"
     ]
    }
   ],
   "source": [
    "# anova \n",
    "from scipy.stats import f_oneway\n",
    "anova = []\n",
    "for col in category_col:\n",
    "    group = df.groupby(col).groups\n",
    "    group = [df.loc[group[i],target_col] for i in group]\n",
    "    anova.append([col,f_oneway(*group)])\n",
    "for res in anova :\n",
    "    if res[1][1] < 0.05:\n",
    "        print(f\"{res[0]}: {res[1][0]} p={res[1][1]}\")\n",
    "    else:\n",
    "        print(f\"{res[0]}: {res[1][0]} p={res[1][1]} - Không có tương quan\")"
   ]
  },
  {
   "cell_type": "markdown",
   "metadata": {},
   "source": [
    "chọn các cột sau \n",
    "- cate_train = ['orbit_class_type','is_sentry_object','is_collidable']\n",
    "- numeric_train = ['absolute_magnitude_h','kilometers_estimated_diameter_min','kilometers_estimated_diameter_max','perihelion_distance','first_observation_year','last_observation_year']"
   ]
  }
 ],
 "metadata": {
  "kernelspec": {
   "display_name": ".venv",
   "language": "python",
   "name": "python3"
  },
  "language_info": {
   "codemirror_mode": {
    "name": "ipython",
    "version": 3
   },
   "file_extension": ".py",
   "mimetype": "text/x-python",
   "name": "python",
   "nbconvert_exporter": "python",
   "pygments_lexer": "ipython3",
   "version": "3.11.9"
  }
 },
 "nbformat": 4,
 "nbformat_minor": 2
}
