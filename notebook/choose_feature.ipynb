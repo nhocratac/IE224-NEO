{
 "cells": [
  {
   "cell_type": "code",
   "execution_count": 38,
   "metadata": {},
   "outputs": [],
   "source": [
    "import pandas as pd\n",
    "import seaborn as sns\n",
    "import matplotlib.pyplot as plt"
   ]
  },
  {
   "cell_type": "code",
   "execution_count": 51,
   "metadata": {},
   "outputs": [],
   "source": [
    "file = '../data/NASA Near-Earth Objects-CleanbyThang.csv'\n",
    "df = pd.read_csv(file,index_col=0)"
   ]
  },
  {
   "cell_type": "code",
   "execution_count": 54,
   "metadata": {},
   "outputs": [
    {
     "name": "stdout",
     "output_type": "stream",
     "text": [
      "<class 'pandas.core.frame.DataFrame'>\n",
      "Index: 23999 entries, 2001981 to 54073367\n",
      "Data columns (total 13 columns):\n",
      " #   Column                             Non-Null Count  Dtype         \n",
      "---  ------                             --------------  -----         \n",
      " 0   absolute_magnitude_h               23999 non-null  float64       \n",
      " 1   is_potentially_hazardous_asteroid  23999 non-null  bool          \n",
      " 2   is_sentry_object                   23999 non-null  bool          \n",
      " 3   kilometers_estimated_diameter_min  23999 non-null  float64       \n",
      " 4   kilometers_estimated_diameter_max  23999 non-null  float64       \n",
      " 5   orbit_class_type                   23999 non-null  object        \n",
      " 6   perihelion_distance                23999 non-null  float64       \n",
      " 7   aphelion_distance                  23999 non-null  float64       \n",
      " 8   first_observation_date             23999 non-null  datetime64[ns]\n",
      " 9   last_observation_date              23999 non-null  datetime64[ns]\n",
      " 10  first_observation_year             23999 non-null  int64         \n",
      " 11  last_observation_year              23999 non-null  int64         \n",
      " 12  is_collidable                      23999 non-null  bool          \n",
      "dtypes: bool(3), datetime64[ns](2), float64(5), int64(2), object(1)\n",
      "memory usage: 2.1+ MB\n"
     ]
    }
   ],
   "source": [
    "df.info()"
   ]
  },
  {
   "cell_type": "code",
   "execution_count": 52,
   "metadata": {},
   "outputs": [],
   "source": [
    "df['first_observation_date'] = pd.to_datetime(df['first_observation_date'])\n",
    "df['last_observation_date'] = pd.to_datetime(df['last_observation_date'])\n",
    "\n"
   ]
  },
  {
   "cell_type": "code",
   "execution_count": 53,
   "metadata": {},
   "outputs": [],
   "source": [
    "df= df.drop(columns=['orbit_class_description'])"
   ]
  },
  {
   "cell_type": "code",
   "execution_count": 47,
   "metadata": {},
   "outputs": [],
   "source": [
    "# đánh giá ma trận tương quan\n",
    "\n",
    "category_col = ['orbit_class_range','is_sentry_object','is_collidable']\n",
    "numeric_col = ['absolute_magnitude_h','kilometers_estimated_diameter_min','kilometers_estimated_diameter_max','perihelion_distance','aphelion_distance','first_observation_year','last_observation_year']\n",
    "target_col = 'is_potentially_hazardous_asteroid'\n"
   ]
  },
  {
   "cell_type": "code",
   "execution_count": 57,
   "metadata": {},
   "outputs": [
    {
     "name": "stdout",
     "output_type": "stream",
     "text": [
      "absolute_magnitude_h: -0.29817214696194916\n",
      "kilometers_estimated_diameter_min: 0.17505221765601386\n",
      "kilometers_estimated_diameter_max: 0.17505221765617768\n",
      "perihelion_distance: -0.2064188018674699\n",
      "aphelion_distance: 0.009944115108585082 - Không có tương quan\n",
      "first_observation_year: -0.20205637965736736\n",
      "last_observation_year: 0.10093555475200071\n"
     ]
    }
   ],
   "source": [
    "# để đánh giá tương quan một biến dàng nhị phân và các biến liên tục ta dùng Point Biserial Correlation\n",
    "from scipy.stats import pointbiserialr\n",
    "corr_numeric = []\n",
    "for col in numeric_col:\n",
    "    if df[col].dtype == 'datetime64[ns]':\n",
    "        df[col] = df[col].dt.year\n",
    "    corr = pointbiserialr(df[target_col],df[col])\n",
    "    corr_numeric.append([col,corr[0],corr[1]])\n",
    "    \n",
    "for res in corr_numeric:\n",
    "    if res[2] < 0.05:\n",
    "        print(f\"{res[0]}: {res[1]}\")\n",
    "    else:\n",
    "        print(f\"{res[0]}: {res[1]} - Không có tương quan\")"
   ]
  },
  {
   "cell_type": "code",
   "execution_count": 56,
   "metadata": {},
   "outputs": [
    {
     "name": "stdout",
     "output_type": "stream",
     "text": [
      "Số giá trị khác nhau của cột aphelion_distance: 23999\n"
     ]
    }
   ],
   "source": [
    "unique_aphelion_distance_count = df['aphelion_distance'].nunique()\n",
    "print(f\"Số giá trị khác nhau của cột aphelion_distance: {unique_aphelion_distance_count}\")"
   ]
  },
  {
   "cell_type": "code",
   "execution_count": null,
   "metadata": {},
   "outputs": [],
   "source": []
  }
 ],
 "metadata": {
  "kernelspec": {
   "display_name": ".venv",
   "language": "python",
   "name": "python3"
  },
  "language_info": {
   "codemirror_mode": {
    "name": "ipython",
    "version": 3
   },
   "file_extension": ".py",
   "mimetype": "text/x-python",
   "name": "python",
   "nbconvert_exporter": "python",
   "pygments_lexer": "ipython3",
   "version": "3.12.6"
  }
 },
 "nbformat": 4,
 "nbformat_minor": 2
}
