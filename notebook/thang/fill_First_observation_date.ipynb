{
 "cells": [
  {
   "cell_type": "code",
   "execution_count": 7,
   "metadata": {},
   "outputs": [
    {
     "name": "stdout",
     "output_type": "stream",
     "text": [
      "<class 'pandas.core.frame.DataFrame'>\n",
      "RangeIndex: 23999 entries, 0 to 23998\n",
      "Data columns (total 12 columns):\n",
      " #   Column                             Non-Null Count  Dtype  \n",
      "---  ------                             --------------  -----  \n",
      " 0   id                                 23999 non-null  int64  \n",
      " 1   absolute_magnitude_h               23999 non-null  float64\n",
      " 2   is_potentially_hazardous_asteroid  23999 non-null  bool   \n",
      " 3   is_sentry_object                   23999 non-null  bool   \n",
      " 4   kilometers_estimated_diameter_min  23999 non-null  float64\n",
      " 5   kilometers_estimated_diameter_max  23999 non-null  float64\n",
      " 6   orbit_class_type                   23999 non-null  object \n",
      " 7   perihelion_distance                23999 non-null  float64\n",
      " 8   aphelion_distance                  23999 non-null  float64\n",
      " 9   first_observation_date             23999 non-null  object \n",
      " 10  last_observation_date              23999 non-null  object \n",
      " 11  orbit_class_description            23999 non-null  object \n",
      "dtypes: bool(2), float64(5), int64(1), object(4)\n",
      "memory usage: 1.9+ MB\n"
     ]
    }
   ],
   "source": [
    "import pandas as pd\n",
    "filename = '../../data/NASA Near-Earth Objects-CleanbyThang.csv'\n",
    "df = pd.read_csv(filename)\n",
    "df.info()"
   ]
  },
  {
   "cell_type": "code",
   "execution_count": 8,
   "metadata": {},
   "outputs": [],
   "source": [
    "df['orbit_class_type'] = df['orbit_class_type'].astype('category')"
   ]
  },
  {
   "cell_type": "code",
   "execution_count": 9,
   "metadata": {},
   "outputs": [],
   "source": [
    "df['first_observation_date'] = pd.to_datetime(df['first_observation_date'], errors='coerce')\n",
    "df['last_observation_date'] = pd.to_datetime(df['last_observation_date'], errors='coerce')\n",
    "\n"
   ]
  },
  {
   "cell_type": "code",
   "execution_count": 10,
   "metadata": {},
   "outputs": [
    {
     "name": "stdout",
     "output_type": "stream",
     "text": [
      "1\n",
      "0\n"
     ]
    }
   ],
   "source": [
    "print(df['first_observation_date'].isnull().sum())\n",
    "print(df['last_observation_date'].isnull().sum())\n",
    "df['first_observation_date'] = df['first_observation_date'].fillna('2008-01-01')\n",
    "df['first_observation_date'] = pd.to_datetime(df['first_observation_date'], errors='coerce')"
   ]
  },
  {
   "cell_type": "code",
   "execution_count": 11,
   "metadata": {},
   "outputs": [
    {
     "name": "stdout",
     "output_type": "stream",
     "text": [
      "<class 'pandas.core.frame.DataFrame'>\n",
      "RangeIndex: 23999 entries, 0 to 23998\n",
      "Data columns (total 12 columns):\n",
      " #   Column                             Non-Null Count  Dtype         \n",
      "---  ------                             --------------  -----         \n",
      " 0   id                                 23999 non-null  int64         \n",
      " 1   absolute_magnitude_h               23999 non-null  float64       \n",
      " 2   is_potentially_hazardous_asteroid  23999 non-null  bool          \n",
      " 3   is_sentry_object                   23999 non-null  bool          \n",
      " 4   kilometers_estimated_diameter_min  23999 non-null  float64       \n",
      " 5   kilometers_estimated_diameter_max  23999 non-null  float64       \n",
      " 6   orbit_class_type                   23999 non-null  category      \n",
      " 7   perihelion_distance                23999 non-null  float64       \n",
      " 8   aphelion_distance                  23999 non-null  float64       \n",
      " 9   first_observation_date             23999 non-null  datetime64[ns]\n",
      " 10  last_observation_date              23999 non-null  datetime64[ns]\n",
      " 11  orbit_class_description            23999 non-null  object        \n",
      "dtypes: bool(2), category(1), datetime64[ns](2), float64(5), int64(1), object(1)\n",
      "memory usage: 1.7+ MB\n"
     ]
    }
   ],
   "source": [
    "df.info()"
   ]
  },
  {
   "cell_type": "code",
   "execution_count": 12,
   "metadata": {},
   "outputs": [],
   "source": [
    "df.to_csv(filename,index=False)"
   ]
  },
  {
   "cell_type": "code",
   "execution_count": null,
   "metadata": {},
   "outputs": [],
   "source": []
  }
 ],
 "metadata": {
  "kernelspec": {
   "display_name": ".venv",
   "language": "python",
   "name": "python3"
  },
  "language_info": {
   "codemirror_mode": {
    "name": "ipython",
    "version": 3
   },
   "file_extension": ".py",
   "mimetype": "text/x-python",
   "name": "python",
   "nbconvert_exporter": "python",
   "pygments_lexer": "ipython3",
   "version": "3.11.9"
  }
 },
 "nbformat": 4,
 "nbformat_minor": 2
}
