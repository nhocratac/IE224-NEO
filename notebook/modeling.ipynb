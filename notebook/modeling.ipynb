{
 "cells": [
  {
   "cell_type": "markdown",
   "metadata": {},
   "source": [
    "# preprocessing"
   ]
  },
  {
   "cell_type": "code",
   "execution_count": 3,
   "metadata": {},
   "outputs": [],
   "source": [
    "from sklearn.preprocessing import StandardScaler\n",
    "from sklearn.model_selection import train_test_split\n",
    "from sklearn.metrics import accuracy_score\n",
    "from sklearn.linear_model import LogisticRegression\n",
    "from sklearn.ensemble import RandomForestClassifier\n",
    "from sklearn.preprocessing import OneHotEncoder\n",
    "import pandas as pd"
   ]
  },
  {
   "cell_type": "code",
   "execution_count": 6,
   "metadata": {},
   "outputs": [],
   "source": [
    "file = '../data/NASA Near-Earth Objects-CleanbyThang.csv'\n",
    "df = pd.read_csv(file,index_col=0)\n"
   ]
  },
  {
   "cell_type": "code",
   "execution_count": 7,
   "metadata": {},
   "outputs": [
    {
     "data": {
      "text/html": [
       "<div>\n",
       "<style scoped>\n",
       "    .dataframe tbody tr th:only-of-type {\n",
       "        vertical-align: middle;\n",
       "    }\n",
       "\n",
       "    .dataframe tbody tr th {\n",
       "        vertical-align: top;\n",
       "    }\n",
       "\n",
       "    .dataframe thead th {\n",
       "        text-align: right;\n",
       "    }\n",
       "</style>\n",
       "<table border=\"1\" class=\"dataframe\">\n",
       "  <thead>\n",
       "    <tr style=\"text-align: right;\">\n",
       "      <th></th>\n",
       "      <th>absolute_magnitude_h</th>\n",
       "      <th>kilometers_estimated_diameter_min</th>\n",
       "      <th>kilometers_estimated_diameter_max</th>\n",
       "      <th>perihelion_distance</th>\n",
       "      <th>aphelion_distance</th>\n",
       "    </tr>\n",
       "  </thead>\n",
       "  <tbody>\n",
       "    <tr>\n",
       "      <th>count</th>\n",
       "      <td>23999.000000</td>\n",
       "      <td>23999.000000</td>\n",
       "      <td>23999.000000</td>\n",
       "      <td>23999.000000</td>\n",
       "      <td>23999.000000</td>\n",
       "    </tr>\n",
       "    <tr>\n",
       "      <th>mean</th>\n",
       "      <td>22.942724</td>\n",
       "      <td>0.167774</td>\n",
       "      <td>0.375154</td>\n",
       "      <td>0.915227</td>\n",
       "      <td>2.653150</td>\n",
       "    </tr>\n",
       "    <tr>\n",
       "      <th>std</th>\n",
       "      <td>2.952519</td>\n",
       "      <td>0.292968</td>\n",
       "      <td>0.655097</td>\n",
       "      <td>0.232206</td>\n",
       "      <td>4.468320</td>\n",
       "    </tr>\n",
       "    <tr>\n",
       "      <th>min</th>\n",
       "      <td>12.580000</td>\n",
       "      <td>0.000609</td>\n",
       "      <td>0.001362</td>\n",
       "      <td>0.070431</td>\n",
       "      <td>0.653754</td>\n",
       "    </tr>\n",
       "    <tr>\n",
       "      <th>25%</th>\n",
       "      <td>20.655000</td>\n",
       "      <td>0.024241</td>\n",
       "      <td>0.054205</td>\n",
       "      <td>0.785140</td>\n",
       "      <td>1.706371</td>\n",
       "    </tr>\n",
       "    <tr>\n",
       "      <th>50%</th>\n",
       "      <td>23.200000</td>\n",
       "      <td>0.060891</td>\n",
       "      <td>0.136157</td>\n",
       "      <td>0.965340</td>\n",
       "      <td>2.480121</td>\n",
       "    </tr>\n",
       "    <tr>\n",
       "      <th>75%</th>\n",
       "      <td>25.200000</td>\n",
       "      <td>0.197040</td>\n",
       "      <td>0.440595</td>\n",
       "      <td>1.068988</td>\n",
       "      <td>3.398020</td>\n",
       "    </tr>\n",
       "    <tr>\n",
       "      <th>max</th>\n",
       "      <td>33.200000</td>\n",
       "      <td>8.101305</td>\n",
       "      <td>18.115068</td>\n",
       "      <td>1.299988</td>\n",
       "      <td>631.895456</td>\n",
       "    </tr>\n",
       "  </tbody>\n",
       "</table>\n",
       "</div>"
      ],
      "text/plain": [
       "       absolute_magnitude_h  kilometers_estimated_diameter_min  \\\n",
       "count          23999.000000                       23999.000000   \n",
       "mean              22.942724                           0.167774   \n",
       "std                2.952519                           0.292968   \n",
       "min               12.580000                           0.000609   \n",
       "25%               20.655000                           0.024241   \n",
       "50%               23.200000                           0.060891   \n",
       "75%               25.200000                           0.197040   \n",
       "max               33.200000                           8.101305   \n",
       "\n",
       "       kilometers_estimated_diameter_max  perihelion_distance  \\\n",
       "count                       23999.000000         23999.000000   \n",
       "mean                            0.375154             0.915227   \n",
       "std                             0.655097             0.232206   \n",
       "min                             0.001362             0.070431   \n",
       "25%                             0.054205             0.785140   \n",
       "50%                             0.136157             0.965340   \n",
       "75%                             0.440595             1.068988   \n",
       "max                            18.115068             1.299988   \n",
       "\n",
       "       aphelion_distance  \n",
       "count       23999.000000  \n",
       "mean            2.653150  \n",
       "std             4.468320  \n",
       "min             0.653754  \n",
       "25%             1.706371  \n",
       "50%             2.480121  \n",
       "75%             3.398020  \n",
       "max           631.895456  "
      ]
     },
     "execution_count": 7,
     "metadata": {},
     "output_type": "execute_result"
    }
   ],
   "source": [
    "df.describe()"
   ]
  },
  {
   "cell_type": "code",
   "execution_count": null,
   "metadata": {},
   "outputs": [],
   "source": [
    "# train test split\n",
    "\n",
    "# 70% train , 15% validation, 15% test\n",
    "\n",
    "X_train , X_val , Y_train ,Y_val = train_test_split(X)"
   ]
  }
 ],
 "metadata": {
  "kernelspec": {
   "display_name": ".venv",
   "language": "python",
   "name": "python3"
  },
  "language_info": {
   "codemirror_mode": {
    "name": "ipython",
    "version": 3
   },
   "file_extension": ".py",
   "mimetype": "text/x-python",
   "name": "python",
   "nbconvert_exporter": "python",
   "pygments_lexer": "ipython3",
   "version": "3.11.9"
  }
 },
 "nbformat": 4,
 "nbformat_minor": 2
}
