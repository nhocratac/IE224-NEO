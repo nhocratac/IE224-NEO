{
 "cells": [
  {
   "cell_type": "markdown",
   "metadata": {},
   "source": [
    "# preprocessing"
   ]
  },
  {
   "cell_type": "code",
   "execution_count": 1,
   "metadata": {},
   "outputs": [],
   "source": [
    "import pandas as pd\n",
    "from sklearn.compose import ColumnTransformer\n",
    "from sklearn.ensemble import RandomForestClassifier\n",
    "from sklearn.linear_model import LogisticRegression\n",
    "from sklearn.metrics import accuracy_score\n",
    "from sklearn.model_selection import train_test_split\n",
    "from sklearn.pipeline import Pipeline\n",
    "from sklearn.preprocessing import OneHotEncoder, StandardScaler"
   ]
  },
  {
   "cell_type": "code",
   "execution_count": 2,
   "metadata": {},
   "outputs": [],
   "source": [
    "file = '../data/NASA Near-Earth Objects-CleanbyThang.csv'\n",
    "df = pd.read_csv(file,index_col=0)\n"
   ]
  },
  {
   "cell_type": "code",
   "execution_count": 7,
   "metadata": {},
   "outputs": [
    {
     "name": "stdout",
     "output_type": "stream",
     "text": [
      "<class 'pandas.core.frame.DataFrame'>\n",
      "Index: 23999 entries, 2001981 to 54073367\n",
      "Data columns (total 14 columns):\n",
      " #   Column                             Non-Null Count  Dtype  \n",
      "---  ------                             --------------  -----  \n",
      " 0   absolute_magnitude_h               23999 non-null  float64\n",
      " 1   is_potentially_hazardous_asteroid  23999 non-null  bool   \n",
      " 2   is_sentry_object                   23999 non-null  bool   \n",
      " 3   kilometers_estimated_diameter_min  23999 non-null  float64\n",
      " 4   kilometers_estimated_diameter_max  23999 non-null  float64\n",
      " 5   orbit_class_type                   23999 non-null  object \n",
      " 6   perihelion_distance                23999 non-null  float64\n",
      " 7   aphelion_distance                  23999 non-null  float64\n",
      " 8   first_observation_date             23999 non-null  object \n",
      " 9   last_observation_date              23999 non-null  object \n",
      " 10  orbit_class_description            23999 non-null  object \n",
      " 11  first_observation_year             23999 non-null  int64  \n",
      " 12  last_observation_year              23999 non-null  int64  \n",
      " 13  is_collidable                      23999 non-null  bool   \n",
      "dtypes: bool(3), float64(5), int64(2), object(4)\n",
      "memory usage: 2.3+ MB\n"
     ]
    }
   ],
   "source": [
    "df.info()"
   ]
  },
  {
   "cell_type": "code",
   "execution_count": 4,
   "metadata": {},
   "outputs": [],
   "source": [
    "cate_train = ['orbit_class_type','is_sentry_object','is_collidable']\n",
    "numeric_train = ['absolute_magnitude_h','kilometers_estimated_diameter_min','kilometers_estimated_diameter_max','perihelion_distance','first_observation_year','last_observation_year']"
   ]
  },
  {
   "cell_type": "code",
   "execution_count": 9,
   "metadata": {},
   "outputs": [],
   "source": [
    "x = df[cate_train + numeric_train]\n",
    "y = df['is_potentially_hazardous_asteroid']"
   ]
  },
  {
   "cell_type": "code",
   "execution_count": 23,
   "metadata": {},
   "outputs": [],
   "source": [
    "# train test split\n",
    "\n",
    "# 70% train , 15% validation, 15% test\n",
    "\n",
    "x_train , x_temp, y_train, y_temp = train_test_split(x,y,test_size=0.2,random_state=0)\n",
    "\n",
    "x_test, x_val, y_test, y_val = train_test_split(x_temp,y_temp,test_size=0.5,random_state=0)"
   ]
  },
  {
   "cell_type": "code",
   "execution_count": 24,
   "metadata": {},
   "outputs": [
    {
     "name": "stdout",
     "output_type": "stream",
     "text": [
      "train_score:  0.9999479139538517\n",
      "Validation Score: 0.92375\n",
      "Test Score: 0.9129166666666667\n"
     ]
    }
   ],
   "source": [
    "preprocessor = ColumnTransformer(\n",
    "    transformers=[\n",
    "        ('cat', OneHotEncoder(handle_unknown='ignore'), cate_train),  # Xử lý cột danh mục\n",
    "        ('num', StandardScaler(), numeric_train)  # Chuẩn hóa cột số\n",
    "    ]\n",
    ")\n",
    "\n",
    "pipeline = Pipeline(steps=[\n",
    "    ('preprocessor', preprocessor),\n",
    "    ('classifier', RandomForestClassifier(random_state=42))\n",
    "])\n",
    "\n",
    "pipeline.fit(x_train, y_train)\n",
    "\n",
    "train_score = pipeline.score(x_train, y_train)\n",
    "val_score = pipeline.score(x_val, y_val)\n",
    "print(\"train_score: \", train_score)\n",
    "print(\"Validation Score:\", val_score)\n",
    "\n",
    "# tính toán độ chính xác trên tập test\n",
    "y_pred = pipeline.predict(x_test)\n",
    "\n",
    "test_score = accuracy_score(y_test, y_pred)\n",
    "\n",
    "print(\"Test Score:\", test_score)"
   ]
  },
  {
   "cell_type": "code",
   "execution_count": null,
   "metadata": {},
   "outputs": [],
   "source": []
  }
 ],
 "metadata": {
  "kernelspec": {
   "display_name": ".venv",
   "language": "python",
   "name": "python3"
  },
  "language_info": {
   "codemirror_mode": {
    "name": "ipython",
    "version": 3
   },
   "file_extension": ".py",
   "mimetype": "text/x-python",
   "name": "python",
   "nbconvert_exporter": "python",
   "pygments_lexer": "ipython3",
   "version": "3.11.9"
  }
 },
 "nbformat": 4,
 "nbformat_minor": 2
}
