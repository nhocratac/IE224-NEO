{
 "cells": [
  {
   "cell_type": "code",
   "execution_count": 34,
   "metadata": {},
   "outputs": [
    {
     "data": {
      "text/html": [
       "<div>\n",
       "<style scoped>\n",
       "    .dataframe tbody tr th:only-of-type {\n",
       "        vertical-align: middle;\n",
       "    }\n",
       "\n",
       "    .dataframe tbody tr th {\n",
       "        vertical-align: top;\n",
       "    }\n",
       "\n",
       "    .dataframe thead th {\n",
       "        text-align: right;\n",
       "    }\n",
       "</style>\n",
       "<table border=\"1\" class=\"dataframe\">\n",
       "  <thead>\n",
       "    <tr style=\"text-align: right;\">\n",
       "      <th></th>\n",
       "      <th>id</th>\n",
       "      <th>neo_reference_id</th>\n",
       "      <th>name</th>\n",
       "      <th>name_limited</th>\n",
       "      <th>designation</th>\n",
       "      <th>absolute_magnitude_h</th>\n",
       "      <th>is_potentially_hazardous_asteroid</th>\n",
       "      <th>is_sentry_object</th>\n",
       "      <th>kilometers_estimated_diameter_min</th>\n",
       "      <th>kilometers_estimated_diameter_max</th>\n",
       "      <th>orbit_id</th>\n",
       "      <th>orbit_class_type</th>\n",
       "      <th>perihelion_distance</th>\n",
       "      <th>aphelion_distance</th>\n",
       "      <th>first_observation_date</th>\n",
       "      <th>last_observation_date</th>\n",
       "      <th>orbit_class_description</th>\n",
       "    </tr>\n",
       "  </thead>\n",
       "  <tbody>\n",
       "    <tr>\n",
       "      <th>1</th>\n",
       "      <td>2001981</td>\n",
       "      <td>2001981</td>\n",
       "      <td>1981 Midas (1973 EA)</td>\n",
       "      <td>Midas</td>\n",
       "      <td>1981</td>\n",
       "      <td>15.22</td>\n",
       "      <td>True</td>\n",
       "      <td>False</td>\n",
       "      <td>2.401900</td>\n",
       "      <td>5.370812</td>\n",
       "      <td>229</td>\n",
       "      <td>APO</td>\n",
       "      <td>0.621512</td>\n",
       "      <td>2.931360</td>\n",
       "      <td>1973-03-06</td>\n",
       "      <td>2021-10-20</td>\n",
       "      <td>Near-Earth asteroid orbits which cross the Ear...</td>\n",
       "    </tr>\n",
       "    <tr>\n",
       "      <th>2</th>\n",
       "      <td>2002059</td>\n",
       "      <td>2002059</td>\n",
       "      <td>2059 Baboquivari (1963 UA)</td>\n",
       "      <td>Baboquivari</td>\n",
       "      <td>2059</td>\n",
       "      <td>15.97</td>\n",
       "      <td>False</td>\n",
       "      <td>False</td>\n",
       "      <td>1.700415</td>\n",
       "      <td>3.802244</td>\n",
       "      <td>268</td>\n",
       "      <td>AMO</td>\n",
       "      <td>1.238537</td>\n",
       "      <td>4.047945</td>\n",
       "      <td>1963-10-16</td>\n",
       "      <td>2021-04-15</td>\n",
       "      <td>Near-Earth asteroid orbits similar to that of ...</td>\n",
       "    </tr>\n",
       "    <tr>\n",
       "      <th>3</th>\n",
       "      <td>2002061</td>\n",
       "      <td>2002061</td>\n",
       "      <td>2061 Anza (1960 UA)</td>\n",
       "      <td>Anza</td>\n",
       "      <td>2061</td>\n",
       "      <td>16.36</td>\n",
       "      <td>False</td>\n",
       "      <td>False</td>\n",
       "      <td>1.420872</td>\n",
       "      <td>3.177167</td>\n",
       "      <td>180</td>\n",
       "      <td>AMO</td>\n",
       "      <td>1.050403</td>\n",
       "      <td>3.478155</td>\n",
       "      <td>1960-10-22</td>\n",
       "      <td>2021-06-12</td>\n",
       "      <td>Near-Earth asteroid orbits similar to that of ...</td>\n",
       "    </tr>\n",
       "    <tr>\n",
       "      <th>4</th>\n",
       "      <td>2002062</td>\n",
       "      <td>2002062</td>\n",
       "      <td>2062 Aten (1976 AA)</td>\n",
       "      <td>Aten</td>\n",
       "      <td>2062</td>\n",
       "      <td>17.10</td>\n",
       "      <td>False</td>\n",
       "      <td>False</td>\n",
       "      <td>1.010543</td>\n",
       "      <td>2.259644</td>\n",
       "      <td>149</td>\n",
       "      <td>ATE</td>\n",
       "      <td>0.790185</td>\n",
       "      <td>1.143633</td>\n",
       "      <td>1955-12-17</td>\n",
       "      <td>2019-11-10</td>\n",
       "      <td>Near-Earth asteroid orbits similar to that of ...</td>\n",
       "    </tr>\n",
       "    <tr>\n",
       "      <th>5</th>\n",
       "      <td>2002063</td>\n",
       "      <td>2002063</td>\n",
       "      <td>2063 Bacchus (1977 HB)</td>\n",
       "      <td>Bacchus</td>\n",
       "      <td>2063</td>\n",
       "      <td>17.28</td>\n",
       "      <td>False</td>\n",
       "      <td>False</td>\n",
       "      <td>0.930154</td>\n",
       "      <td>2.079888</td>\n",
       "      <td>143</td>\n",
       "      <td>APO</td>\n",
       "      <td>0.701397</td>\n",
       "      <td>1.454804</td>\n",
       "      <td>1977-04-24</td>\n",
       "      <td>2021-12-02</td>\n",
       "      <td>Near-Earth asteroid orbits which cross the Ear...</td>\n",
       "    </tr>\n",
       "  </tbody>\n",
       "</table>\n",
       "</div>"
      ],
      "text/plain": [
       "        id  neo_reference_id                        name name_limited  \\\n",
       "1  2001981           2001981        1981 Midas (1973 EA)        Midas   \n",
       "2  2002059           2002059  2059 Baboquivari (1963 UA)  Baboquivari   \n",
       "3  2002061           2002061         2061 Anza (1960 UA)         Anza   \n",
       "4  2002062           2002062         2062 Aten (1976 AA)         Aten   \n",
       "5  2002063           2002063      2063 Bacchus (1977 HB)      Bacchus   \n",
       "\n",
       "  designation  absolute_magnitude_h  is_potentially_hazardous_asteroid  \\\n",
       "1        1981                 15.22                               True   \n",
       "2        2059                 15.97                              False   \n",
       "3        2061                 16.36                              False   \n",
       "4        2062                 17.10                              False   \n",
       "5        2063                 17.28                              False   \n",
       "\n",
       "   is_sentry_object  kilometers_estimated_diameter_min  \\\n",
       "1             False                           2.401900   \n",
       "2             False                           1.700415   \n",
       "3             False                           1.420872   \n",
       "4             False                           1.010543   \n",
       "5             False                           0.930154   \n",
       "\n",
       "   kilometers_estimated_diameter_max orbit_id orbit_class_type  \\\n",
       "1                           5.370812      229              APO   \n",
       "2                           3.802244      268              AMO   \n",
       "3                           3.177167      180              AMO   \n",
       "4                           2.259644      149              ATE   \n",
       "5                           2.079888      143              APO   \n",
       "\n",
       "   perihelion_distance  aphelion_distance first_observation_date  \\\n",
       "1             0.621512           2.931360             1973-03-06   \n",
       "2             1.238537           4.047945             1963-10-16   \n",
       "3             1.050403           3.478155             1960-10-22   \n",
       "4             0.790185           1.143633             1955-12-17   \n",
       "5             0.701397           1.454804             1977-04-24   \n",
       "\n",
       "  last_observation_date                            orbit_class_description  \n",
       "1            2021-10-20  Near-Earth asteroid orbits which cross the Ear...  \n",
       "2            2021-04-15  Near-Earth asteroid orbits similar to that of ...  \n",
       "3            2021-06-12  Near-Earth asteroid orbits similar to that of ...  \n",
       "4            2019-11-10  Near-Earth asteroid orbits similar to that of ...  \n",
       "5            2021-12-02  Near-Earth asteroid orbits which cross the Ear...  "
      ]
     },
     "execution_count": 34,
     "metadata": {},
     "output_type": "execute_result"
    }
   ],
   "source": [
    "# Import các thư viện cần thiết\n",
    "\n",
    "import pandas as pd\n",
    "import numpy as np\n",
    "\n",
    "# Import bộ dữ liệu\n",
    "df = pd.read_csv('data/NASA Near-Earth Objects.csv', index_col=0)\n",
    "df.index = range(1, len(df) + 1) \n",
    "\n",
    "# Xem qua dữ liệu bộ dữ liệu\n",
    "df.head()"
   ]
  },
  {
   "cell_type": "markdown",
   "metadata": {},
   "source": [
    "### 4. Xác định vấn đề bài toán"
   ]
  },
  {
   "cell_type": "markdown",
   "metadata": {},
   "source": [
    "#### 4.2. Loại bỏ các thuộc tính không liên quan đến vấn đề bài toán"
   ]
  },
  {
   "cell_type": "markdown",
   "metadata": {},
   "source": [
    "Loại bỏ các thuộc tính không liên quan đến bài toán gồm:\n",
    "* neo_reference_id (trùng lặp với id)\n",
    "* name, name_limited, designation (đều chỉ để định danh NEO)\n",
    "* orbit_id (chỉ để định danh quỹ đạo NEO)."
   ]
  },
  {
   "cell_type": "code",
   "execution_count": 35,
   "metadata": {},
   "outputs": [],
   "source": [
    "df.drop(columns=['neo_reference_id', 'name_limited', 'orbit_id', 'name','designation' ], inplace=True)"
   ]
  },
  {
   "cell_type": "markdown",
   "metadata": {},
   "source": [
    "### 5. Tiền xử lý dữ liệu"
   ]
  },
  {
   "cell_type": "markdown",
   "metadata": {},
   "source": [
    "#### 5.1. Định dạng dữ liệu"
   ]
  },
  {
   "cell_type": "markdown",
   "metadata": {},
   "source": [
    "Kiểm tra kiểu dữ liệu của các cột."
   ]
  },
  {
   "cell_type": "code",
   "execution_count": 36,
   "metadata": {},
   "outputs": [
    {
     "data": {
      "text/plain": [
       "id                                     int64\n",
       "absolute_magnitude_h                 float64\n",
       "is_potentially_hazardous_asteroid       bool\n",
       "is_sentry_object                        bool\n",
       "kilometers_estimated_diameter_min    float64\n",
       "kilometers_estimated_diameter_max    float64\n",
       "orbit_class_type                      object\n",
       "perihelion_distance                  float64\n",
       "aphelion_distance                    float64\n",
       "first_observation_date                object\n",
       "last_observation_date                 object\n",
       "orbit_class_description               object\n",
       "dtype: object"
      ]
     },
     "execution_count": 36,
     "metadata": {},
     "output_type": "execute_result"
    }
   ],
   "source": [
    "df.dtypes"
   ]
  },
  {
   "cell_type": "markdown",
   "metadata": {},
   "source": [
    "Định dạng lại kiểu dữ liệu của 2 cột ngày tháng năm (first_observation_date và last_observation_date) từ object sang datetime, kiểu dữ liệu của biến phân loại orbit_class_type từ object sang category."
   ]
  },
  {
   "cell_type": "code",
   "execution_count": 37,
   "metadata": {},
   "outputs": [],
   "source": [
    "df['first_observation_date'] = pd.to_datetime(df['first_observation_date'], errors='coerce')\n",
    "df['last_observation_date'] = pd.to_datetime(df['last_observation_date'], errors='coerce')\n",
    "\n",
    "df['orbit_class_type'] = df['orbit_class_type'].astype('category')"
   ]
  },
  {
   "cell_type": "code",
   "execution_count": 38,
   "metadata": {},
   "outputs": [
    {
     "data": {
      "text/plain": [
       "id                                            int64\n",
       "absolute_magnitude_h                        float64\n",
       "is_potentially_hazardous_asteroid              bool\n",
       "is_sentry_object                               bool\n",
       "kilometers_estimated_diameter_min           float64\n",
       "kilometers_estimated_diameter_max           float64\n",
       "orbit_class_type                           category\n",
       "perihelion_distance                         float64\n",
       "aphelion_distance                           float64\n",
       "first_observation_date               datetime64[ns]\n",
       "last_observation_date                datetime64[ns]\n",
       "orbit_class_description                      object\n",
       "dtype: object"
      ]
     },
     "execution_count": 38,
     "metadata": {},
     "output_type": "execute_result"
    }
   ],
   "source": [
    "df.dtypes"
   ]
  },
  {
   "cell_type": "markdown",
   "metadata": {},
   "source": [
    "#### 5.2. Tìm và xử lý giá trị bị khuyết"
   ]
  },
  {
   "cell_type": "markdown",
   "metadata": {},
   "source": [
    "Ta tính số lượng giá trị khuyết theo từng thuộc tính."
   ]
  },
  {
   "cell_type": "code",
   "execution_count": 39,
   "metadata": {},
   "outputs": [
    {
     "data": {
      "text/plain": [
       "id                                   0\n",
       "absolute_magnitude_h                 8\n",
       "is_potentially_hazardous_asteroid    0\n",
       "is_sentry_object                     0\n",
       "kilometers_estimated_diameter_min    8\n",
       "kilometers_estimated_diameter_max    8\n",
       "orbit_class_type                     0\n",
       "perihelion_distance                  0\n",
       "aphelion_distance                    0\n",
       "first_observation_date               1\n",
       "last_observation_date                0\n",
       "orbit_class_description              0\n",
       "dtype: int64"
      ]
     },
     "execution_count": 39,
     "metadata": {},
     "output_type": "execute_result"
    }
   ],
   "source": [
    "df.isnull().sum()"
   ]
  },
  {
   "cell_type": "markdown",
   "metadata": {},
   "source": [
    "##### **Điền khuyết absolute_magnitude_h**"
   ]
  },
  {
   "cell_type": "markdown",
   "metadata": {},
   "source": [
    "Ta xem các hàng dữ liệu chứa giá trị bị khuyết tại absolute_magnitude_h."
   ]
  },
  {
   "cell_type": "code",
   "execution_count": 40,
   "metadata": {},
   "outputs": [
    {
     "data": {
      "text/html": [
       "<div>\n",
       "<style scoped>\n",
       "    .dataframe tbody tr th:only-of-type {\n",
       "        vertical-align: middle;\n",
       "    }\n",
       "\n",
       "    .dataframe tbody tr th {\n",
       "        vertical-align: top;\n",
       "    }\n",
       "\n",
       "    .dataframe thead th {\n",
       "        text-align: right;\n",
       "    }\n",
       "</style>\n",
       "<table border=\"1\" class=\"dataframe\">\n",
       "  <thead>\n",
       "    <tr style=\"text-align: right;\">\n",
       "      <th></th>\n",
       "      <th>id</th>\n",
       "      <th>absolute_magnitude_h</th>\n",
       "      <th>is_potentially_hazardous_asteroid</th>\n",
       "      <th>is_sentry_object</th>\n",
       "      <th>kilometers_estimated_diameter_min</th>\n",
       "      <th>kilometers_estimated_diameter_max</th>\n",
       "      <th>orbit_class_type</th>\n",
       "      <th>perihelion_distance</th>\n",
       "      <th>aphelion_distance</th>\n",
       "      <th>first_observation_date</th>\n",
       "      <th>last_observation_date</th>\n",
       "      <th>orbit_class_description</th>\n",
       "    </tr>\n",
       "  </thead>\n",
       "  <tbody>\n",
       "    <tr>\n",
       "      <th>7093</th>\n",
       "      <td>3592397</td>\n",
       "      <td>NaN</td>\n",
       "      <td>False</td>\n",
       "      <td>False</td>\n",
       "      <td>0.096506</td>\n",
       "      <td>0.215794</td>\n",
       "      <td>AMO</td>\n",
       "      <td>1.030625</td>\n",
       "      <td>1.833895</td>\n",
       "      <td>2010-01-12</td>\n",
       "      <td>2010-01-14</td>\n",
       "      <td>Near-Earth asteroid orbits similar to that of ...</td>\n",
       "    </tr>\n",
       "    <tr>\n",
       "      <th>7094</th>\n",
       "      <td>3529628</td>\n",
       "      <td>NaN</td>\n",
       "      <td>False</td>\n",
       "      <td>False</td>\n",
       "      <td>0.242412</td>\n",
       "      <td>0.542051</td>\n",
       "      <td>AMO</td>\n",
       "      <td>1.296142</td>\n",
       "      <td>1.585558</td>\n",
       "      <td>2010-01-14</td>\n",
       "      <td>2010-01-16</td>\n",
       "      <td>Near-Earth asteroid orbits similar to that of ...</td>\n",
       "    </tr>\n",
       "    <tr>\n",
       "      <th>7281</th>\n",
       "      <td>3593352</td>\n",
       "      <td>NaN</td>\n",
       "      <td>False</td>\n",
       "      <td>False</td>\n",
       "      <td>0.242412</td>\n",
       "      <td>0.542051</td>\n",
       "      <td>AMO</td>\n",
       "      <td>1.283669</td>\n",
       "      <td>2.252321</td>\n",
       "      <td>2010-04-11</td>\n",
       "      <td>2010-04-13</td>\n",
       "      <td>Near-Earth asteroid orbits similar to that of ...</td>\n",
       "    </tr>\n",
       "    <tr>\n",
       "      <th>7293</th>\n",
       "      <td>3593534</td>\n",
       "      <td>NaN</td>\n",
       "      <td>False</td>\n",
       "      <td>False</td>\n",
       "      <td>0.237988</td>\n",
       "      <td>0.532157</td>\n",
       "      <td>AMO</td>\n",
       "      <td>1.124254</td>\n",
       "      <td>1.633350</td>\n",
       "      <td>2010-04-19</td>\n",
       "      <td>2010-04-21</td>\n",
       "      <td>Near-Earth asteroid orbits similar to that of ...</td>\n",
       "    </tr>\n",
       "    <tr>\n",
       "      <th>7296</th>\n",
       "      <td>3593636</td>\n",
       "      <td>NaN</td>\n",
       "      <td>False</td>\n",
       "      <td>False</td>\n",
       "      <td>0.050647</td>\n",
       "      <td>0.113250</td>\n",
       "      <td>AMO</td>\n",
       "      <td>1.248248</td>\n",
       "      <td>1.606883</td>\n",
       "      <td>2010-04-28</td>\n",
       "      <td>2010-04-30</td>\n",
       "      <td>Near-Earth asteroid orbits similar to that of ...</td>\n",
       "    </tr>\n",
       "    <tr>\n",
       "      <th>7397</th>\n",
       "      <td>3594572</td>\n",
       "      <td>NaN</td>\n",
       "      <td>False</td>\n",
       "      <td>False</td>\n",
       "      <td>0.552783</td>\n",
       "      <td>1.236061</td>\n",
       "      <td>AMO</td>\n",
       "      <td>1.288272</td>\n",
       "      <td>1.780744</td>\n",
       "      <td>2010-06-17</td>\n",
       "      <td>2010-06-21</td>\n",
       "      <td>Near-Earth asteroid orbits similar to that of ...</td>\n",
       "    </tr>\n",
       "    <tr>\n",
       "      <th>7400</th>\n",
       "      <td>3536587</td>\n",
       "      <td>NaN</td>\n",
       "      <td>False</td>\n",
       "      <td>False</td>\n",
       "      <td>NaN</td>\n",
       "      <td>NaN</td>\n",
       "      <td>APO</td>\n",
       "      <td>0.809472</td>\n",
       "      <td>1.333837</td>\n",
       "      <td>2010-06-23</td>\n",
       "      <td>2010-06-25</td>\n",
       "      <td>Near-Earth asteroid orbits which cross the Ear...</td>\n",
       "    </tr>\n",
       "    <tr>\n",
       "      <th>7401</th>\n",
       "      <td>3536588</td>\n",
       "      <td>NaN</td>\n",
       "      <td>False</td>\n",
       "      <td>False</td>\n",
       "      <td>0.110295</td>\n",
       "      <td>0.246627</td>\n",
       "      <td>APO</td>\n",
       "      <td>0.587842</td>\n",
       "      <td>1.866107</td>\n",
       "      <td>2010-06-23</td>\n",
       "      <td>2010-06-24</td>\n",
       "      <td>Near-Earth asteroid orbits which cross the Ear...</td>\n",
       "    </tr>\n",
       "  </tbody>\n",
       "</table>\n",
       "</div>"
      ],
      "text/plain": [
       "           id  absolute_magnitude_h  is_potentially_hazardous_asteroid  \\\n",
       "7093  3592397                   NaN                              False   \n",
       "7094  3529628                   NaN                              False   \n",
       "7281  3593352                   NaN                              False   \n",
       "7293  3593534                   NaN                              False   \n",
       "7296  3593636                   NaN                              False   \n",
       "7397  3594572                   NaN                              False   \n",
       "7400  3536587                   NaN                              False   \n",
       "7401  3536588                   NaN                              False   \n",
       "\n",
       "      is_sentry_object  kilometers_estimated_diameter_min  \\\n",
       "7093             False                           0.096506   \n",
       "7094             False                           0.242412   \n",
       "7281             False                           0.242412   \n",
       "7293             False                           0.237988   \n",
       "7296             False                           0.050647   \n",
       "7397             False                           0.552783   \n",
       "7400             False                                NaN   \n",
       "7401             False                           0.110295   \n",
       "\n",
       "      kilometers_estimated_diameter_max orbit_class_type  perihelion_distance  \\\n",
       "7093                           0.215794              AMO             1.030625   \n",
       "7094                           0.542051              AMO             1.296142   \n",
       "7281                           0.542051              AMO             1.283669   \n",
       "7293                           0.532157              AMO             1.124254   \n",
       "7296                           0.113250              AMO             1.248248   \n",
       "7397                           1.236061              AMO             1.288272   \n",
       "7400                                NaN              APO             0.809472   \n",
       "7401                           0.246627              APO             0.587842   \n",
       "\n",
       "      aphelion_distance first_observation_date last_observation_date  \\\n",
       "7093           1.833895             2010-01-12            2010-01-14   \n",
       "7094           1.585558             2010-01-14            2010-01-16   \n",
       "7281           2.252321             2010-04-11            2010-04-13   \n",
       "7293           1.633350             2010-04-19            2010-04-21   \n",
       "7296           1.606883             2010-04-28            2010-04-30   \n",
       "7397           1.780744             2010-06-17            2010-06-21   \n",
       "7400           1.333837             2010-06-23            2010-06-25   \n",
       "7401           1.866107             2010-06-23            2010-06-24   \n",
       "\n",
       "                                orbit_class_description  \n",
       "7093  Near-Earth asteroid orbits similar to that of ...  \n",
       "7094  Near-Earth asteroid orbits similar to that of ...  \n",
       "7281  Near-Earth asteroid orbits similar to that of ...  \n",
       "7293  Near-Earth asteroid orbits similar to that of ...  \n",
       "7296  Near-Earth asteroid orbits similar to that of ...  \n",
       "7397  Near-Earth asteroid orbits similar to that of ...  \n",
       "7400  Near-Earth asteroid orbits which cross the Ear...  \n",
       "7401  Near-Earth asteroid orbits which cross the Ear...  "
      ]
     },
     "execution_count": 40,
     "metadata": {},
     "output_type": "execute_result"
    }
   ],
   "source": [
    "dataFrame_missingData_absolute_magnitude_h  = df[df['absolute_magnitude_h'].isnull()]\n",
    "dataFrame_missingData_absolute_magnitude_h"
   ]
  },
  {
   "cell_type": "markdown",
   "metadata": {},
   "source": [
    "Ta thấy hàng nào có absolute_magnitude_h bị khuyết thì có is_potentially_hazardous_asteroid = False.<br><br>\n",
    "Vì vậy, ta tìm giá trị Mode đối với tập dữ liệu mà is_potentially_hazardous_asteroid = False."
   ]
  },
  {
   "cell_type": "code",
   "execution_count": 41,
   "metadata": {},
   "outputs": [
    {
     "name": "stdout",
     "output_type": "stream",
     "text": [
      "0    24.8\n",
      "1    25.4\n",
      "Name: absolute_magnitude_h, dtype: float64\n"
     ]
    }
   ],
   "source": [
    "# non_hazardous_values chứa các giá trị của cột 'absolute_magnitude_h' cùng các dòng\n",
    "# có giá trị 'is_potentially_hazardous_asteroid' là False\n",
    "\n",
    "non_hazardous_values = df[df['is_potentially_hazardous_asteroid'] == False]['absolute_magnitude_h']\n",
    "print(non_hazardous_values.mode())"
   ]
  },
  {
   "cell_type": "markdown",
   "metadata": {},
   "source": [
    "Có 2 Mode, vì vậy ta chọn giá trị Mode nhỏ hơn để điền khuyết cột absolute_magnitude_h đồng thời tránh ảnh hưởng lớn tới phân bố giá trị của cột."
   ]
  },
  {
   "cell_type": "code",
   "execution_count": 42,
   "metadata": {},
   "outputs": [],
   "source": [
    "df['absolute_magnitude_h'] =df['absolute_magnitude_h'].fillna(non_hazardous_values.mode()[0])"
   ]
  },
  {
   "cell_type": "markdown",
   "metadata": {},
   "source": [
    "Chúng ta kiểm tra lại xem cột absolute_magnitude_h đã được điền khuyết chưa."
   ]
  },
  {
   "cell_type": "code",
   "execution_count": 43,
   "metadata": {},
   "outputs": [
    {
     "data": {
      "text/plain": [
       "id                                   0\n",
       "absolute_magnitude_h                 0\n",
       "is_potentially_hazardous_asteroid    0\n",
       "is_sentry_object                     0\n",
       "kilometers_estimated_diameter_min    8\n",
       "kilometers_estimated_diameter_max    8\n",
       "orbit_class_type                     0\n",
       "perihelion_distance                  0\n",
       "aphelion_distance                    0\n",
       "first_observation_date               1\n",
       "last_observation_date                0\n",
       "orbit_class_description              0\n",
       "dtype: int64"
      ]
     },
     "execution_count": 43,
     "metadata": {},
     "output_type": "execute_result"
    }
   ],
   "source": [
    "df.isnull().sum()"
   ]
  },
  {
   "cell_type": "markdown",
   "metadata": {},
   "source": [
    "##### **Điền khuyết kilometers_estimated_diameter_max và kilometers_estimated_diameter_min**"
   ]
  },
  {
   "cell_type": "markdown",
   "metadata": {},
   "source": [
    "Ta xem các hàng dữ liệu chứa giá trị bị khuyết tại kilometers_estimated_diameter_max."
   ]
  },
  {
   "cell_type": "code",
   "execution_count": 44,
   "metadata": {},
   "outputs": [
    {
     "data": {
      "text/html": [
       "<div>\n",
       "<style scoped>\n",
       "    .dataframe tbody tr th:only-of-type {\n",
       "        vertical-align: middle;\n",
       "    }\n",
       "\n",
       "    .dataframe tbody tr th {\n",
       "        vertical-align: top;\n",
       "    }\n",
       "\n",
       "    .dataframe thead th {\n",
       "        text-align: right;\n",
       "    }\n",
       "</style>\n",
       "<table border=\"1\" class=\"dataframe\">\n",
       "  <thead>\n",
       "    <tr style=\"text-align: right;\">\n",
       "      <th></th>\n",
       "      <th>id</th>\n",
       "      <th>absolute_magnitude_h</th>\n",
       "      <th>is_potentially_hazardous_asteroid</th>\n",
       "      <th>is_sentry_object</th>\n",
       "      <th>kilometers_estimated_diameter_min</th>\n",
       "      <th>kilometers_estimated_diameter_max</th>\n",
       "      <th>orbit_class_type</th>\n",
       "      <th>perihelion_distance</th>\n",
       "      <th>aphelion_distance</th>\n",
       "      <th>first_observation_date</th>\n",
       "      <th>last_observation_date</th>\n",
       "      <th>orbit_class_description</th>\n",
       "    </tr>\n",
       "  </thead>\n",
       "  <tbody>\n",
       "    <tr>\n",
       "      <th>7099</th>\n",
       "      <td>3486442</td>\n",
       "      <td>22.01</td>\n",
       "      <td>False</td>\n",
       "      <td>False</td>\n",
       "      <td>NaN</td>\n",
       "      <td>NaN</td>\n",
       "      <td>ATE</td>\n",
       "      <td>0.499066</td>\n",
       "      <td>1.308927</td>\n",
       "      <td>2010-01-19</td>\n",
       "      <td>2022-02-20</td>\n",
       "      <td>Near-Earth asteroid orbits similar to that of ...</td>\n",
       "    </tr>\n",
       "    <tr>\n",
       "      <th>7100</th>\n",
       "      <td>3486468</td>\n",
       "      <td>24.50</td>\n",
       "      <td>False</td>\n",
       "      <td>False</td>\n",
       "      <td>NaN</td>\n",
       "      <td>NaN</td>\n",
       "      <td>APO</td>\n",
       "      <td>0.992934</td>\n",
       "      <td>3.807938</td>\n",
       "      <td>2010-01-21</td>\n",
       "      <td>2010-02-19</td>\n",
       "      <td>Near-Earth asteroid orbits which cross the Ear...</td>\n",
       "    </tr>\n",
       "    <tr>\n",
       "      <th>7298</th>\n",
       "      <td>3521512</td>\n",
       "      <td>22.50</td>\n",
       "      <td>False</td>\n",
       "      <td>False</td>\n",
       "      <td>NaN</td>\n",
       "      <td>NaN</td>\n",
       "      <td>APO</td>\n",
       "      <td>0.972326</td>\n",
       "      <td>3.523808</td>\n",
       "      <td>2010-04-23</td>\n",
       "      <td>2010-05-16</td>\n",
       "      <td>Near-Earth asteroid orbits which cross the Ear...</td>\n",
       "    </tr>\n",
       "    <tr>\n",
       "      <th>7299</th>\n",
       "      <td>3520758</td>\n",
       "      <td>23.60</td>\n",
       "      <td>False</td>\n",
       "      <td>False</td>\n",
       "      <td>NaN</td>\n",
       "      <td>NaN</td>\n",
       "      <td>ATE</td>\n",
       "      <td>0.560438</td>\n",
       "      <td>1.041743</td>\n",
       "      <td>2010-04-20</td>\n",
       "      <td>2015-04-23</td>\n",
       "      <td>Near-Earth asteroid orbits similar to that of ...</td>\n",
       "    </tr>\n",
       "    <tr>\n",
       "      <th>7300</th>\n",
       "      <td>3519453</td>\n",
       "      <td>27.00</td>\n",
       "      <td>False</td>\n",
       "      <td>False</td>\n",
       "      <td>NaN</td>\n",
       "      <td>NaN</td>\n",
       "      <td>APO</td>\n",
       "      <td>0.859304</td>\n",
       "      <td>1.572154</td>\n",
       "      <td>2010-05-04</td>\n",
       "      <td>2010-05-08</td>\n",
       "      <td>Near-Earth asteroid orbits which cross the Ear...</td>\n",
       "    </tr>\n",
       "    <tr>\n",
       "      <th>7399</th>\n",
       "      <td>3536555</td>\n",
       "      <td>20.70</td>\n",
       "      <td>True</td>\n",
       "      <td>False</td>\n",
       "      <td>NaN</td>\n",
       "      <td>NaN</td>\n",
       "      <td>APO</td>\n",
       "      <td>0.807641</td>\n",
       "      <td>2.704371</td>\n",
       "      <td>2010-06-30</td>\n",
       "      <td>2020-01-29</td>\n",
       "      <td>Near-Earth asteroid orbits which cross the Ear...</td>\n",
       "    </tr>\n",
       "    <tr>\n",
       "      <th>7400</th>\n",
       "      <td>3536587</td>\n",
       "      <td>24.80</td>\n",
       "      <td>False</td>\n",
       "      <td>False</td>\n",
       "      <td>NaN</td>\n",
       "      <td>NaN</td>\n",
       "      <td>APO</td>\n",
       "      <td>0.809472</td>\n",
       "      <td>1.333837</td>\n",
       "      <td>2010-06-23</td>\n",
       "      <td>2010-06-25</td>\n",
       "      <td>Near-Earth asteroid orbits which cross the Ear...</td>\n",
       "    </tr>\n",
       "    <tr>\n",
       "      <th>7420</th>\n",
       "      <td>3537906</td>\n",
       "      <td>19.30</td>\n",
       "      <td>False</td>\n",
       "      <td>False</td>\n",
       "      <td>NaN</td>\n",
       "      <td>NaN</td>\n",
       "      <td>AMO</td>\n",
       "      <td>1.061093</td>\n",
       "      <td>4.500854</td>\n",
       "      <td>2010-07-21</td>\n",
       "      <td>2020-01-26</td>\n",
       "      <td>Near-Earth asteroid orbits similar to that of ...</td>\n",
       "    </tr>\n",
       "  </tbody>\n",
       "</table>\n",
       "</div>"
      ],
      "text/plain": [
       "           id  absolute_magnitude_h  is_potentially_hazardous_asteroid  \\\n",
       "7099  3486442                 22.01                              False   \n",
       "7100  3486468                 24.50                              False   \n",
       "7298  3521512                 22.50                              False   \n",
       "7299  3520758                 23.60                              False   \n",
       "7300  3519453                 27.00                              False   \n",
       "7399  3536555                 20.70                               True   \n",
       "7400  3536587                 24.80                              False   \n",
       "7420  3537906                 19.30                              False   \n",
       "\n",
       "      is_sentry_object  kilometers_estimated_diameter_min  \\\n",
       "7099             False                                NaN   \n",
       "7100             False                                NaN   \n",
       "7298             False                                NaN   \n",
       "7299             False                                NaN   \n",
       "7300             False                                NaN   \n",
       "7399             False                                NaN   \n",
       "7400             False                                NaN   \n",
       "7420             False                                NaN   \n",
       "\n",
       "      kilometers_estimated_diameter_max orbit_class_type  perihelion_distance  \\\n",
       "7099                                NaN              ATE             0.499066   \n",
       "7100                                NaN              APO             0.992934   \n",
       "7298                                NaN              APO             0.972326   \n",
       "7299                                NaN              ATE             0.560438   \n",
       "7300                                NaN              APO             0.859304   \n",
       "7399                                NaN              APO             0.807641   \n",
       "7400                                NaN              APO             0.809472   \n",
       "7420                                NaN              AMO             1.061093   \n",
       "\n",
       "      aphelion_distance first_observation_date last_observation_date  \\\n",
       "7099           1.308927             2010-01-19            2022-02-20   \n",
       "7100           3.807938             2010-01-21            2010-02-19   \n",
       "7298           3.523808             2010-04-23            2010-05-16   \n",
       "7299           1.041743             2010-04-20            2015-04-23   \n",
       "7300           1.572154             2010-05-04            2010-05-08   \n",
       "7399           2.704371             2010-06-30            2020-01-29   \n",
       "7400           1.333837             2010-06-23            2010-06-25   \n",
       "7420           4.500854             2010-07-21            2020-01-26   \n",
       "\n",
       "                                orbit_class_description  \n",
       "7099  Near-Earth asteroid orbits similar to that of ...  \n",
       "7100  Near-Earth asteroid orbits which cross the Ear...  \n",
       "7298  Near-Earth asteroid orbits which cross the Ear...  \n",
       "7299  Near-Earth asteroid orbits similar to that of ...  \n",
       "7300  Near-Earth asteroid orbits which cross the Ear...  \n",
       "7399  Near-Earth asteroid orbits which cross the Ear...  \n",
       "7400  Near-Earth asteroid orbits which cross the Ear...  \n",
       "7420  Near-Earth asteroid orbits similar to that of ...  "
      ]
     },
     "execution_count": 44,
     "metadata": {},
     "output_type": "execute_result"
    }
   ],
   "source": [
    "dataFrame_missingData_kilometers_estimated_diameter_max  = df[df['kilometers_estimated_diameter_max'].isnull()]\n",
    "dataFrame_missingData_kilometers_estimated_diameter_max"
   ]
  },
  {
   "cell_type": "markdown",
   "metadata": {},
   "source": [
    "Ta thấy rằng, những hàng có cột kilometers_estimated_diameter_max bị khuyết thì cũng có cột kilometers_estimated_diameter_min bị khuyết."
   ]
  },
  {
   "cell_type": "markdown",
   "metadata": {},
   "source": [
    "**Phương pháp điền khuyết:**<br>\n",
    "* Xem xét độ tương quan giữa hai cột kilometers_estimated_diameter_min và kilometers_estimated_diameter_max, nếu có tương quan ta chỉ cần điền một cột, cột còn lại sẽ được tính toán từ cột đã điền.\n",
    "* Xem xét độ tương quan giữa cột kilometers_estimated_diameter_min với cột absolute_magnitude_h, nếu có tương quan ta sẽ điền cột kilometers_estimated_diameter_min từ cột absolute_magnitude_h.\n",
    "\n",
    "Ta sẽ tính mức độ tương quan bằng hệ số tương quan Pearson."
   ]
  },
  {
   "cell_type": "code",
   "execution_count": 45,
   "metadata": {},
   "outputs": [
    {
     "name": "stdout",
     "output_type": "stream",
     "text": [
      "Tương quan Pearson giữa kilometers_estimated_diameter_max và kilometers_estimated_diameter_min: 0.9999999999999992\n"
     ]
    },
    {
     "data": {
      "text/plain": [
       "<Axes: xlabel='kilometers_estimated_diameter_max', ylabel='kilometers_estimated_diameter_min'>"
      ]
     },
     "execution_count": 45,
     "metadata": {},
     "output_type": "execute_result"
    },
    {
     "data": {
      "image/png": "[encoded data removed]",
      "text/plain": [
       "<Figure size 640x480 with 1 Axes>"
      ]
     },
     "metadata": {},
     "output_type": "display_data"
    }
   ],
   "source": [
    "import seaborn as sns\n",
    "\n",
    "# Tính hệ số tương quan giữa 'kilometers_estimated_diameter_max' và 'kilometers_estimated_diameter_min'\n",
    "# dựa vào hệ số tương quan Pearson\n",
    "\n",
    "correlation = df['kilometers_estimated_diameter_max'].corr(df['kilometers_estimated_diameter_min'],method='pearson')\n",
    "print('Tương quan Pearson giữa kilometers_estimated_diameter_max và kilometers_estimated_diameter_min:', correlation)\n",
    "\n",
    "# Trực quan hóa mối quan hệ giữa 'kilometers_estimated_diameter_max' và 'kilometers_estimated_diameter_min'\n",
    "sns.regplot(x='kilometers_estimated_diameter_max', y='kilometers_estimated_diameter_min', data=df)"
   ]
  },
  {
   "cell_type": "markdown",
   "metadata": {},
   "source": [
    "Hệ số tương quan của hai cột là 0.9999999999999992 (độ tương quan gần như tuyệt đối). Các điểm dữ liệu đều tập trung trên đường thẳng dự đoán.<br><br>\n",
    "Vì thế, ta cần tìm ra quy luật để điền khuyết cột này dựa trên cột còn lại."
   ]
  },
  {
   "cell_type": "markdown",
   "metadata": {},
   "source": [
    "Ta sẽ dùng mô hình hồi quy tuyến tính để kiểm tra việc điền khuyết cho cột kilometers_estimated_diameter_max từ cột kilometers_estimated_diameter_min có hiệu quả hay không."
   ]
  },
  {
   "cell_type": "code",
   "execution_count": 46,
   "metadata": {},
   "outputs": [
    {
     "name": "stdout",
     "output_type": "stream",
     "text": [
      "Mean squared error test: 5.079060756600633e-21\n",
      "Mean squared error train: 5.108182683238987e-21\n",
      "Score: 1.0\n"
     ]
    }
   ],
   "source": [
    "# tạo mô hình hồi quy tuyến tính\n",
    "from sklearn.linear_model import LinearRegression\n",
    "from sklearn.model_selection import train_test_split\n",
    "from sklearn.metrics import mean_squared_error\n",
    "\n",
    "df_reg_test = df.dropna(subset=['kilometers_estimated_diameter_max'])\n",
    "X = df_reg_test[['kilometers_estimated_diameter_min']]\n",
    "y = df_reg_test['kilometers_estimated_diameter_max']\n",
    "\n",
    "X_train, X_test, y_train, y_test = train_test_split(X, y, test_size=0.2, random_state=0)\n",
    "model_linear = LinearRegression()\n",
    "model_linear.fit(X_train, y_train)\n",
    "y_pred = model_linear.predict(X_test)\n",
    "print('Mean squared error test:', mean_squared_error(y_test, y_pred))\n",
    "print('Mean squared error train:', mean_squared_error(y_train, model_linear.predict(X_train)))\n",
    "print('Score:', model_linear.score(X_test, y_test))"
   ]
  },
  {
   "cell_type": "markdown",
   "metadata": {},
   "source": [
    "Từ kết quả, ta thấy mô hình hồi quy tuyến tính để dự đoán cột kilometers_estimated_diameter_max dựa trên cột kilometers_estimated_diameter_min hoạt động hiệu quả."
   ]
  },
  {
   "cell_type": "markdown",
   "metadata": {},
   "source": [
    "Tiếp theo, ta sẽ tìm cách điền khuyết cột kilometers_estimated_diameter_min từ cột absolute_magnitude_h. Trước hết, ta cần phải tính độ tương quan giữa hai cột này với nhau. Ta sẽ tính bằng hệ số tương quan Pearson."
   ]
  },
  {
   "cell_type": "code",
   "execution_count": 47,
   "metadata": {},
   "outputs": [
    {
     "name": "stdout",
     "output_type": "stream",
     "text": [
      "Tương quan Pearson giữa kilometers_estimated_diameter_min và absolute_magnitude_h: -0.7153089006656862\n"
     ]
    },
    {
     "data": {
      "text/plain": [
       "<Axes: xlabel='kilometers_estimated_diameter_min', ylabel='absolute_magnitude_h'>"
      ]
     },
     "execution_count": 47,
     "metadata": {},
     "output_type": "execute_result"
    },
    {
     "data": {
      "image/png": "[encoded data removed]",
      "text/plain": [
       "<Figure size 640x480 with 1 Axes>"
      ]
     },
     "metadata": {},
     "output_type": "display_data"
    }
   ],
   "source": [
    "# Xem xét độ tương quan giữa cột kilometers_estimated_diameter_min với cột absolute_magnitude_h\n",
    "# nếu có tương quan, ta sẽ điền cột kilometers_estimated_diameter_min từ cột absolute_magnitude_h\n",
    "\n",
    "correlation = df['kilometers_estimated_diameter_min'].corr(df['absolute_magnitude_h'],method='pearson')\n",
    "print('Tương quan Pearson giữa kilometers_estimated_diameter_min và absolute_magnitude_h:', correlation)\n",
    "sns.regplot(x='kilometers_estimated_diameter_min', y='absolute_magnitude_h', data=df)"
   ]
  },
  {
   "cell_type": "markdown",
   "metadata": {},
   "source": [
    "Hệ số tương quan (-0.7153089) cho thấy có độ tương quan cao và nghịch biến giữa hai cột, nhưng độ tương quan đó lại phi tuyến tính. Vì vậy, việc điền khuyết cột kilometers_estimated_diameter_min dựa trên cột absolute_magnitude_h là điều khả thi.<br><br>"
   ]
  },
  {
   "cell_type": "code",
   "execution_count": 48,
   "metadata": {},
   "outputs": [
    {
     "data": {
      "image/png": "[encoded data removed]",
      "text/plain": [
       "<Figure size 640x480 with 1 Axes>"
      ]
     },
     "metadata": {},
     "output_type": "display_data"
    }
   ],
   "source": [
    "import seaborn as sns\n",
    "import matplotlib.pyplot as plt\n",
    "\n",
    "# Trực quan hóa mối quan hệ giữa 'kilometers_estimated_diameter_min' và 'absolute_magnitude_h'\n",
    "\n",
    "sns.scatterplot(x='kilometers_estimated_diameter_min', y='absolute_magnitude_h', data=df)\n",
    "plt.xlabel('Kilometers Estimated Diameter Min')\n",
    "plt.ylabel('Absolute Magnitude H')\n",
    "plt.title('Scatter Plot of Absolute Magnitude H vs Kilometers Estimated Diameter Min')\n",
    "plt.show()"
   ]
  },
  {
   "cell_type": "markdown",
   "metadata": {},
   "source": [
    "Dựa vào đồ thị, ta thấy các điểm dữ liệu phân bố có quy luật đường hyperbol: y = (ax + b) / (cx + d)<br><br>\n",
    "Ta dùng mô hình hồi quy phân thức để điền khuyết kilometers_estimated_diameter_min dựa trên absolute_magnitude_h."
   ]
  },
  {
   "cell_type": "code",
   "execution_count": 49,
   "metadata": {},
   "outputs": [
    {
     "name": "stdout",
     "output_type": "stream",
     "text": [
      "Tham số ước lượng: a=-441.36129472952666, b=10980.991622015155, c=756.9961375432638, d=-9045.160097802367\n",
      "Mean Squared Error (MSE): 0.008408403731414547\n",
      "R^2 (Train): 0.9020519896761967\n"
     ]
    },
    {
     "data": {
      "image/png": "[encoded data removed]",
      "text/plain": [
       "<Figure size 640x480 with 1 Axes>"
      ]
     },
     "metadata": {},
     "output_type": "display_data"
    }
   ],
   "source": [
    "from scipy.optimize import curve_fit\n",
    "from sklearn.metrics import mean_squared_error\n",
    "\n",
    "df_hyperbol_test = df.dropna(subset=['kilometers_estimated_diameter_min', 'absolute_magnitude_h'])\n",
    "absolute_magnitude_h = df_hyperbol_test['absolute_magnitude_h']\n",
    "kilometers_estimated_diameter_min = df_hyperbol_test['kilometers_estimated_diameter_min']\n",
    "\n",
    "# Định nghĩa mô hình hồi quy phân thức\n",
    "def fractional_model(x, a, b, c, d):\n",
    "    return (a * x + b) / (c * x + d)\n",
    "\n",
    "# Fit mô hình với dữ liệu\n",
    "params, covariance = curve_fit(fractional_model, absolute_magnitude_h, kilometers_estimated_diameter_min)\n",
    "a, b, c, d = params\n",
    "print(f\"Tham số ước lượng: a={a}, b={b}, c={c}, d={d}\")\n",
    "\n",
    "# Dự đoán giá trị\n",
    "x_line = np.linspace(min(absolute_magnitude_h), max(absolute_magnitude_h), 400)\n",
    "y_pred = fractional_model(x_line, a, b, c, d)\n",
    "\n",
    "# Tính MSE (Mean Squared Error)\n",
    "y_train_pred = fractional_model(absolute_magnitude_h, a, b, c, d)\n",
    "mse = mean_squared_error(kilometers_estimated_diameter_min, y_train_pred)\n",
    "print(f\"Mean Squared Error (MSE): {mse}\")\n",
    "R2 = 1 - (np.sum((kilometers_estimated_diameter_min - y_train_pred) ** 2) / np.sum((kilometers_estimated_diameter_min - np.mean(kilometers_estimated_diameter_min)) ** 2))\n",
    "print(f\"R^2 (Train): {R2}\")\n",
    "\n",
    "# Vẽ biểu đồ\n",
    "plt.scatter(absolute_magnitude_h, kilometers_estimated_diameter_min, label='Dữ liệu thực', color='blue', alpha=0.5)\n",
    "plt.plot(x_line, y_pred, label='Mô hình hồi quy phân thức', color='red')\n",
    "plt.xlabel('Absolute Magnitude H')\n",
    "plt.ylabel('Kilometers Estimated Diameter Min')\n",
    "plt.title('Hồi quy phân thức')\n",
    "plt.legend()\n",
    "plt.show()"
   ]
  },
  {
   "cell_type": "code",
   "execution_count": 50,
   "metadata": {},
   "outputs": [
    {
     "name": "stdout",
     "output_type": "stream",
     "text": [
      "Giá trị thử: 19.57\n",
      "Giá trị dự đoán: 0.4062138634631001\n",
      "Giá trị thực tế: 0.3240074354\n"
     ]
    }
   ],
   "source": [
    "print(f\"Giá trị thử: {df['absolute_magnitude_h'][2000]}\")\n",
    "print(f\"Giá trị dự đoán: {fractional_model(df['absolute_magnitude_h'][2000], a, b, c, d)}\")\n",
    "print(f\"Giá trị thực tế: {df['kilometers_estimated_diameter_min'][2000]}\")"
   ]
  },
  {
   "cell_type": "markdown",
   "metadata": {},
   "source": [
    "Ta thấy giá trị mô hình hồi quy phân thức dự đoán khá gần so với giá trị thực tế, vì thế mô hình này có thể sử dụng để điền khuyết kilometers_estimated_diameter_min dựa trên absolute_magnitude_h."
   ]
  },
  {
   "cell_type": "code",
   "execution_count": 51,
   "metadata": {},
   "outputs": [
    {
     "name": "stdout",
     "output_type": "stream",
     "text": [
      "Số lượng giá trị bị thiếu của cột 'kilometers_estimated_diameter_min': 0\n"
     ]
    }
   ],
   "source": [
    "# Tìm các dòng có giá trị 'kilometers_estimated_diameter_min' bị thiếu\n",
    "missing_indices = df[df['kilometers_estimated_diameter_min'].isnull()].index\n",
    "\n",
    "# Dự đoán các giá trị bị thiếu\n",
    "predicted_values = fractional_model(df['absolute_magnitude_h'][missing_indices], a, b, c, d)\n",
    "\n",
    "# Điền khuyết bằng các giá trị dự đoán\n",
    "df.loc[missing_indices, 'kilometers_estimated_diameter_min'] = predicted_values\n",
    "\n",
    "# Kiểm tra lại số lượng giá trị bị thiếu của cột 'kilometers_estimated_diameter_min'\n",
    "kilo_min_null = df['kilometers_estimated_diameter_min'].isnull().sum()\n",
    "print(f\"Số lượng giá trị bị thiếu của cột 'kilometers_estimated_diameter_min': {kilo_min_null}\")"
   ]
  },
  {
   "cell_type": "markdown",
   "metadata": {},
   "source": [
    "Ta kiểm tra xem trong kilometers_estimated_diameter_min có giá trị dự đoán điền khuyết là âm không."
   ]
  },
  {
   "cell_type": "code",
   "execution_count": 52,
   "metadata": {},
   "outputs": [
    {
     "data": {
      "text/html": [
       "<div>\n",
       "<style scoped>\n",
       "    .dataframe tbody tr th:only-of-type {\n",
       "        vertical-align: middle;\n",
       "    }\n",
       "\n",
       "    .dataframe tbody tr th {\n",
       "        vertical-align: top;\n",
       "    }\n",
       "\n",
       "    .dataframe thead th {\n",
       "        text-align: right;\n",
       "    }\n",
       "</style>\n",
       "<table border=\"1\" class=\"dataframe\">\n",
       "  <thead>\n",
       "    <tr style=\"text-align: right;\">\n",
       "      <th></th>\n",
       "      <th>id</th>\n",
       "      <th>absolute_magnitude_h</th>\n",
       "      <th>is_potentially_hazardous_asteroid</th>\n",
       "      <th>is_sentry_object</th>\n",
       "      <th>kilometers_estimated_diameter_min</th>\n",
       "      <th>kilometers_estimated_diameter_max</th>\n",
       "      <th>orbit_class_type</th>\n",
       "      <th>perihelion_distance</th>\n",
       "      <th>aphelion_distance</th>\n",
       "      <th>first_observation_date</th>\n",
       "      <th>last_observation_date</th>\n",
       "      <th>orbit_class_description</th>\n",
       "    </tr>\n",
       "  </thead>\n",
       "  <tbody>\n",
       "    <tr>\n",
       "      <th>7300</th>\n",
       "      <td>3519453</td>\n",
       "      <td>27.0</td>\n",
       "      <td>False</td>\n",
       "      <td>False</td>\n",
       "      <td>-0.08213</td>\n",
       "      <td>NaN</td>\n",
       "      <td>APO</td>\n",
       "      <td>0.859304</td>\n",
       "      <td>1.572154</td>\n",
       "      <td>2010-05-04</td>\n",
       "      <td>2010-05-08</td>\n",
       "      <td>Near-Earth asteroid orbits which cross the Ear...</td>\n",
       "    </tr>\n",
       "  </tbody>\n",
       "</table>\n",
       "</div>"
      ],
      "text/plain": [
       "           id  absolute_magnitude_h  is_potentially_hazardous_asteroid  \\\n",
       "7300  3519453                  27.0                              False   \n",
       "\n",
       "      is_sentry_object  kilometers_estimated_diameter_min  \\\n",
       "7300             False                           -0.08213   \n",
       "\n",
       "      kilometers_estimated_diameter_max orbit_class_type  perihelion_distance  \\\n",
       "7300                                NaN              APO             0.859304   \n",
       "\n",
       "      aphelion_distance first_observation_date last_observation_date  \\\n",
       "7300           1.572154             2010-05-04            2010-05-08   \n",
       "\n",
       "                                orbit_class_description  \n",
       "7300  Near-Earth asteroid orbits which cross the Ear...  "
      ]
     },
     "execution_count": 52,
     "metadata": {},
     "output_type": "execute_result"
    }
   ],
   "source": [
    "df[df['kilometers_estimated_diameter_min'] < 0]"
   ]
  },
  {
   "cell_type": "markdown",
   "metadata": {},
   "source": [
    "Có 1 giá trị bị âm. Ta cần phải xử lý giá trị này do giá trị đường kính ước tính không thể là giá trị âm.<br><br>\n",
    "Ta nhận định rằng giá trị dự đoán này có nghĩa rằng vật thể này có đường kính ước tính tối thiểu cực nhỏ. Thêm vào đó, NEO này là NEO không nguy hiểm.<br><br>\n",
    "Vì vậy, ta loại bỏ hàng chứa giá trị này, do điều này sẽ không ảnh hưởng nhiều đến dữ liệu."
   ]
  },
  {
   "cell_type": "code",
   "execution_count": 53,
   "metadata": {},
   "outputs": [],
   "source": [
    "# Drop hàng nào có giá trị âm\n",
    "df.drop(df[df['kilometers_estimated_diameter_min']<0].index, inplace=True)"
   ]
  },
  {
   "cell_type": "markdown",
   "metadata": {},
   "source": [
    "Ta dùng mô hình hồi quy tuyến tính để dự đoán cột kilometers_estimated_diameter_max dựa trên cột kilometers_estimated_diameter_min hoạt động hiệu quả."
   ]
  },
  {
   "cell_type": "code",
   "execution_count": 54,
   "metadata": {},
   "outputs": [
    {
     "name": "stdout",
     "output_type": "stream",
     "text": [
      "Số lượng giá trị bị thiếu của cột 'kilometers_estimated_diameter_max': 0\n"
     ]
    },
    {
     "name": "stderr",
     "output_type": "stream",
     "text": [
      "c:\\Users\\Admin\\AppData\\Local\\Programs\\Python\\Python310\\lib\\site-packages\\sklearn\\base.py:493: UserWarning: X does not have valid feature names, but LinearRegression was fitted with feature names\n",
      "  warnings.warn(\n"
     ]
    }
   ],
   "source": [
    "# Dự đoán cột kiometers_estimated_diameter_max dựa trên cột kilometers_estimated_diameter_min\n",
    "# bằng cách dùng mô hình khi nãy đã dự đoán\n",
    "\n",
    "# Tìm các dòng có giá trị 'kilometers_estimated_diameter_max' bị thiếu\n",
    "missing_indices = df[df['kilometers_estimated_diameter_max'].isnull()].index\n",
    "\n",
    "# Dự đoán các giá trị bị thiếu\n",
    "predicted_values = model_linear.predict(df['kilometers_estimated_diameter_min'][missing_indices].values.reshape(-1, 1))\n",
    "\n",
    "# Điền khuyết bằng các giá trị dự đoán\n",
    "df.loc[missing_indices, 'kilometers_estimated_diameter_max'] = predicted_values\n",
    "\n",
    "# Kiểm tra điền khuyết thành công chưa\n",
    "kilo_null_check = df['kilometers_estimated_diameter_max'].isnull().sum()\n",
    "print(f\"Số lượng giá trị bị thiếu của cột 'kilometers_estimated_diameter_max': {kilo_null_check}\")"
   ]
  },
  {
   "cell_type": "markdown",
   "metadata": {},
   "source": [
    "Sau khi điền khuyết xong ta kiểm tra lại dữ liệu."
   ]
  },
  {
   "cell_type": "code",
   "execution_count": 55,
   "metadata": {},
   "outputs": [
    {
     "data": {
      "text/plain": [
       "id                                   0\n",
       "absolute_magnitude_h                 0\n",
       "is_potentially_hazardous_asteroid    0\n",
       "is_sentry_object                     0\n",
       "kilometers_estimated_diameter_min    0\n",
       "kilometers_estimated_diameter_max    0\n",
       "orbit_class_type                     0\n",
       "perihelion_distance                  0\n",
       "aphelion_distance                    0\n",
       "first_observation_date               1\n",
       "last_observation_date                0\n",
       "orbit_class_description              0\n",
       "dtype: int64"
      ]
     },
     "execution_count": 55,
     "metadata": {},
     "output_type": "execute_result"
    }
   ],
   "source": [
    "df.isnull().sum()"
   ]
  },
  {
   "cell_type": "markdown",
   "metadata": {},
   "source": [
    "##### **Điền khuyết first_observation_date**"
   ]
  },
  {
   "cell_type": "markdown",
   "metadata": {},
   "source": [
    "Ta xem thông tin của hàng dữ liệu khuyết first_observation_date"
   ]
  },
  {
   "cell_type": "code",
   "execution_count": 56,
   "metadata": {},
   "outputs": [
    {
     "data": {
      "text/html": [
       "<div>\n",
       "<style scoped>\n",
       "    .dataframe tbody tr th:only-of-type {\n",
       "        vertical-align: middle;\n",
       "    }\n",
       "\n",
       "    .dataframe tbody tr th {\n",
       "        vertical-align: top;\n",
       "    }\n",
       "\n",
       "    .dataframe thead th {\n",
       "        text-align: right;\n",
       "    }\n",
       "</style>\n",
       "<table border=\"1\" class=\"dataframe\">\n",
       "  <thead>\n",
       "    <tr style=\"text-align: right;\">\n",
       "      <th></th>\n",
       "      <th>id</th>\n",
       "      <th>absolute_magnitude_h</th>\n",
       "      <th>is_potentially_hazardous_asteroid</th>\n",
       "      <th>is_sentry_object</th>\n",
       "      <th>kilometers_estimated_diameter_min</th>\n",
       "      <th>kilometers_estimated_diameter_max</th>\n",
       "      <th>orbit_class_type</th>\n",
       "      <th>perihelion_distance</th>\n",
       "      <th>aphelion_distance</th>\n",
       "      <th>first_observation_date</th>\n",
       "      <th>last_observation_date</th>\n",
       "      <th>orbit_class_description</th>\n",
       "    </tr>\n",
       "  </thead>\n",
       "  <tbody>\n",
       "    <tr>\n",
       "      <th>20703</th>\n",
       "      <td>3843794</td>\n",
       "      <td>20.6</td>\n",
       "      <td>False</td>\n",
       "      <td>False</td>\n",
       "      <td>0.20163</td>\n",
       "      <td>0.450858</td>\n",
       "      <td>AMO</td>\n",
       "      <td>1.077174</td>\n",
       "      <td>1.865083</td>\n",
       "      <td>NaT</td>\n",
       "      <td>2019-09-06</td>\n",
       "      <td>Near-Earth asteroid orbits similar to that of ...</td>\n",
       "    </tr>\n",
       "  </tbody>\n",
       "</table>\n",
       "</div>"
      ],
      "text/plain": [
       "            id  absolute_magnitude_h  is_potentially_hazardous_asteroid  \\\n",
       "20703  3843794                  20.6                              False   \n",
       "\n",
       "       is_sentry_object  kilometers_estimated_diameter_min  \\\n",
       "20703             False                            0.20163   \n",
       "\n",
       "       kilometers_estimated_diameter_max orbit_class_type  \\\n",
       "20703                           0.450858              AMO   \n",
       "\n",
       "       perihelion_distance  aphelion_distance first_observation_date  \\\n",
       "20703             1.077174           1.865083                    NaT   \n",
       "\n",
       "      last_observation_date                            orbit_class_description  \n",
       "20703            2019-09-06  Near-Earth asteroid orbits similar to that of ...  "
      ]
     },
     "execution_count": 56,
     "metadata": {},
     "output_type": "execute_result"
    }
   ],
   "source": [
    "df[df['first_observation_date'].isnull()]"
   ]
  },
  {
   "cell_type": "markdown",
   "metadata": {},
   "source": [
    "Chúng ta kiểm tra các giá trị first_observation_date của các hàng kề cạnh hàng chứa dữ liệu khuyết."
   ]
  },
  {
   "cell_type": "code",
   "execution_count": 57,
   "metadata": {},
   "outputs": [
    {
     "name": "stdout",
     "output_type": "stream",
     "text": [
      "20700   2017-08-16\n",
      "20701   2019-09-04\n",
      "20702   2019-09-05\n",
      "20703          NaT\n",
      "20704   2019-09-05\n",
      "20705   2019-09-06\n",
      "20706   2019-09-05\n",
      "20707   2019-09-06\n",
      "20708   2019-09-05\n",
      "20709   2019-09-06\n",
      "20710   2019-09-06\n",
      "Name: first_observation_date, dtype: datetime64[ns]\n"
     ]
    }
   ],
   "source": [
    "# Kiểm tra thông tin các giá trị xung quanh giá trị bị thiếu\n",
    "null_index = df[df['first_observation_date'].isnull()].index[0]\n",
    "neighboring_values = df['first_observation_date'].iloc[null_index-5:null_index+6]\n",
    "print(neighboring_values)"
   ]
  },
  {
   "cell_type": "markdown",
   "metadata": {},
   "source": [
    "Từ kết quả, ta có thể dự đoán rằng các hàng dữ liệu kề nhau sẽ có cùng một khoảng first_observation_date giống nhau. Vì thế, ta điền khuyết dữ liệu khuyết này bằng dữ liệu first_observation_date của hàng kề trên."
   ]
  },
  {
   "cell_type": "code",
   "execution_count": 58,
   "metadata": {},
   "outputs": [],
   "source": [
    "null_index = df[df['first_observation_date'].isnull()].index[0]\n",
    "df.loc[null_index, 'first_observation_date'] = df.loc[null_index - 1, 'first_observation_date']"
   ]
  },
  {
   "cell_type": "code",
   "execution_count": 59,
   "metadata": {},
   "outputs": [
    {
     "data": {
      "text/plain": [
       "id                                                                             3843794\n",
       "absolute_magnitude_h                                                              20.6\n",
       "is_potentially_hazardous_asteroid                                                False\n",
       "is_sentry_object                                                                 False\n",
       "kilometers_estimated_diameter_min                                              0.20163\n",
       "kilometers_estimated_diameter_max                                             0.450858\n",
       "orbit_class_type                                                                   AMO\n",
       "perihelion_distance                                                           1.077174\n",
       "aphelion_distance                                                             1.865083\n",
       "first_observation_date                                             2019-09-05 00:00:00\n",
       "last_observation_date                                              2019-09-06 00:00:00\n",
       "orbit_class_description              Near-Earth asteroid orbits similar to that of ...\n",
       "Name: 20703, dtype: object"
      ]
     },
     "execution_count": 59,
     "metadata": {},
     "output_type": "execute_result"
    }
   ],
   "source": [
    "df.loc[null_index]"
   ]
  },
  {
   "cell_type": "code",
   "execution_count": 60,
   "metadata": {},
   "outputs": [
    {
     "data": {
      "text/plain": [
       "id                                   0\n",
       "absolute_magnitude_h                 0\n",
       "is_potentially_hazardous_asteroid    0\n",
       "is_sentry_object                     0\n",
       "kilometers_estimated_diameter_min    0\n",
       "kilometers_estimated_diameter_max    0\n",
       "orbit_class_type                     0\n",
       "perihelion_distance                  0\n",
       "aphelion_distance                    0\n",
       "first_observation_date               0\n",
       "last_observation_date                0\n",
       "orbit_class_description              0\n",
       "dtype: int64"
      ]
     },
     "execution_count": 60,
     "metadata": {},
     "output_type": "execute_result"
    }
   ],
   "source": [
    "df.isnull().sum()"
   ]
  },
  {
   "cell_type": "markdown",
   "metadata": {},
   "source": [
    "### 6. Phân tích thăm dò dữ liệu và thực hiện kỹ thuật đặc trưng"
   ]
  },
  {
   "cell_type": "code",
   "execution_count": 61,
   "metadata": {},
   "outputs": [
    {
     "name": "stdout",
     "output_type": "stream",
     "text": [
      "<class 'pandas.core.frame.DataFrame'>\n",
      "Index: 23999 entries, 1 to 24000\n",
      "Data columns (total 12 columns):\n",
      " #   Column                             Non-Null Count  Dtype         \n",
      "---  ------                             --------------  -----         \n",
      " 0   id                                 23999 non-null  int64         \n",
      " 1   absolute_magnitude_h               23999 non-null  float64       \n",
      " 2   is_potentially_hazardous_asteroid  23999 non-null  bool          \n",
      " 3   is_sentry_object                   23999 non-null  bool          \n",
      " 4   kilometers_estimated_diameter_min  23999 non-null  float64       \n",
      " 5   kilometers_estimated_diameter_max  23999 non-null  float64       \n",
      " 6   orbit_class_type                   23999 non-null  category      \n",
      " 7   perihelion_distance                23999 non-null  float64       \n",
      " 8   aphelion_distance                  23999 non-null  float64       \n",
      " 9   first_observation_date             23999 non-null  datetime64[ns]\n",
      " 10  last_observation_date              23999 non-null  datetime64[ns]\n",
      " 11  orbit_class_description            23999 non-null  object        \n",
      "dtypes: bool(2), category(1), datetime64[ns](2), float64(5), int64(1), object(1)\n",
      "memory usage: 2.4+ MB\n"
     ]
    }
   ],
   "source": [
    "df.info()"
   ]
  },
  {
   "cell_type": "markdown",
   "metadata": {},
   "source": [
    "#### **Các biến phân loại**"
   ]
  },
  {
   "cell_type": "markdown",
   "metadata": {},
   "source": [
    "##### **is_potentially_hazardous_asteroid**"
   ]
  },
  {
   "cell_type": "code",
   "execution_count": 68,
   "metadata": {},
   "outputs": [
    {
     "data": {
      "image/png": "[encoded data removed]",
      "text/plain": [
       "<Figure size 1000x500 with 1 Axes>"
      ]
     },
     "metadata": {},
     "output_type": "display_data"
    },
    {
     "data": {
      "image/png": "[encoded data removed]",
      "text/plain": [
       "<Figure size 800x800 with 1 Axes>"
      ]
     },
     "metadata": {},
     "output_type": "display_data"
    }
   ],
   "source": [
    "# Trực quan hóa dữ liệu is_potentially_hazardous_asteroid\n",
    "color = sns.color_palette(\"pastel\")\n",
    "hazardous_counts = df['is_potentially_hazardous_asteroid'].value_counts()\n",
    "\n",
    "plt.figure(figsize=(10, 5))\n",
    "hazardous_counts.plot(kind='bar', color=color)\n",
    "plt.title('Số lượng các NEO có thể nguy hiểm và không nguy hiểm')\n",
    "plt.xlabel('Is Potentially Hazardous Asteroid')\n",
    "plt.ylabel('Count')\n",
    "plt.xticks(ticks=[0, 1], labels=['Không nguy hiểm', 'Có thể nguy hiểm'], rotation=0)\n",
    "plt.show()\n",
    "\n",
    "plt.figure(figsize=(8, 8))\n",
    "hazardous_counts.plot(kind='pie', autopct='%1.1f%%', colors=color, labels=['Không nguy hiểm', 'Có thể nguy hiểm'])\n",
    "plt.title('Tỷ lệ NEO có thể nguy hiểm và không nguy hiểm')\n",
    "plt.ylabel('')\n",
    "plt.show()"
   ]
  },
  {
   "cell_type": "markdown",
   "metadata": {},
   "source": [
    "##### **is_sentry_object**"
   ]
  },
  {
   "cell_type": "code",
   "execution_count": 64,
   "metadata": {},
   "outputs": [
    {
     "data": {
      "image/png": "[encoded data removed]",
      "text/plain": [
       "<Figure size 1500x500 with 2 Axes>"
      ]
     },
     "metadata": {},
     "output_type": "display_data"
    }
   ],
   "source": [
    "color = sns.color_palette(\"pastel\")\n",
    "fig, axs = plt.subplots(ncols=2, figsize=(15, 5))\n",
    "\n",
    "# Các vật thể nằm trong hệ thống Sentry\n",
    "df1 = df[df['is_sentry_object'] == True]\n",
    "axs[0].pie(df1['is_potentially_hazardous_asteroid'].value_counts(), autopct='%1.1f%%', colors=color)\n",
    "axs[0].set_title('Vật thể nằm trong hệ thống Sentry')\n",
    "\n",
    "# Các vật thể không nằm trong hệ thống Sentry\n",
    "df2 = df[df['is_sentry_object'] == False]\n",
    "axs[1].pie(df2['is_potentially_hazardous_asteroid'].value_counts(), autopct='%1.1f%%', colors=color)\n",
    "axs[1].set_title('Vật thể không nằm trong hệ thống Sentry')\n",
    "\n",
    "\n",
    "fig.legend(['Không nguy hiểm', 'Có thể nguy hiểm'], loc='upper right')\n",
    "\n",
    "plt.show()\n"
   ]
  },
  {
   "cell_type": "markdown",
   "metadata": {},
   "source": [
    "**Đánh giá biến is_potentially_hazardous_asteroid:**\n",
    "* Tỉ lệ NEO có thể nguy hiểm chiếm 91.3&, tỉ lệ NEO có thể nguy hiểm chiếm 8.7%.\n",
    "\n",
    "=> Dữ liệu bị mất cân bằng\n",
    "\n",
    "**Đánh giá biến orbit_class_type:**\n",
    "* Tỉ lệ NEO có thể nguy hiểm trong mỗi loại quỹ đạo là khác nhau.\n",
    "* Loại quỹ đạo IEO có tỉ lệ NEO có thể nguy hiểm cao nhất, loại quỹ đạo AMO có tỉ lệ NEO có thể nguy hiểm thấp nhất.\n",
    "\n",
    "=> Biến này ảnh hưởng đến biến is_potentially_hazardous_asteroid<br><br>\n",
    "**Đánh giá biến is_sentry_object:**\n",
    "* Đối với các vật thể không nằm trong hệ theo dõi sentry thì có 9,1% là NEO có thể nguy hiểm.\n",
    "* Đỏi với các vật thể nằm trong hệ theo dõi sentry thì có 1% là NEO có thể nguy hiểm."
   ]
  }
 ],
 "metadata": {
  "kernelspec": {
   "display_name": "Python 3",
   "language": "python",
   "name": "python3"
  },
  "language_info": {
   "codemirror_mode": {
    "name": "ipython",
    "version": 3
   },
   "file_extension": ".py",
   "mimetype": "text/x-python",
   "name": "python",
   "nbconvert_exporter": "python",
   "pygments_lexer": "ipython3",
   "version": "3.10.2"
  }
 },
 "nbformat": 4,
 "nbformat_minor": 2
}
